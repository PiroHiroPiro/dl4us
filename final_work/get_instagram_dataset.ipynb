{
 "cells": [
  {
   "cell_type": "code",
   "execution_count": 1,
   "metadata": {},
   "outputs": [],
   "source": [
    "import requests\n",
    "from bs4 import BeautifulSoup\n",
    "import re\n",
    "import json\n",
    "import pickle\n",
    "from time import sleep"
   ]
  },
  {
   "cell_type": "code",
   "execution_count": 2,
   "metadata": {},
   "outputs": [],
   "source": [
    "INSTAGRAM_HOST_NAME = 'https://www.instagram.com/'"
   ]
  },
  {
   "cell_type": "code",
   "execution_count": 3,
   "metadata": {},
   "outputs": [],
   "source": [
    "def get_tag_count(tag):\n",
    "    try:\n",
    "        url = INSTAGRAM_HOST_NAME+ 'explore/tags/' +  tag\n",
    "        html = requests.get(url).text\n",
    "        soup = BeautifulSoup(html, \"html.parser\")\n",
    "        script = soup.findAll(\"script\", text=re.compile(\"window._sharedData\"))[0].text\n",
    "        json_str = script.replace('window._sharedData = ', '').replace(';', '')\n",
    "        data = json.loads(json_str)\n",
    "        return data['entry_data']['TagPage'][0]['graphql']['hashtag']['edge_hashtag_to_media']['count']\n",
    "    except Exception as e:\n",
    "        print(\"CANT GET DATA : tag_name = %s; %s;\" % (tag, e))\n",
    "        return -1"
   ]
  },
  {
   "cell_type": "code",
   "execution_count": 4,
   "metadata": {},
   "outputs": [],
   "source": [
    "def get_username_by_shortcode(shortcode):\n",
    "    try:\n",
    "        url = INSTAGRAM_HOST_NAME + 'p/' + shortcode\n",
    "        html = requests.get(url).text\n",
    "        soup = BeautifulSoup(html, \"html.parser\")\n",
    "        script = soup.findAll(\"script\", text=re.compile(\"window._sharedData\"))[0].text\n",
    "        json_str = script.replace('window._sharedData = ', '').replace(';', '')\n",
    "        data = json.loads(json_str)\n",
    "        return data['entry_data']['PostPage'][0]['graphql']['shortcode_media']['owner']['username']\n",
    "    except Exception as e:\n",
    "        print(\"CANT GET DATA : shortcode = %s; %s;\" % (shortcode, e))"
   ]
  },
  {
   "cell_type": "code",
   "execution_count": 5,
   "metadata": {},
   "outputs": [],
   "source": [
    "def get_followed_by_username(username):\n",
    "    try:\n",
    "        url = INSTAGRAM_HOST_NAME + username\n",
    "        html = requests.get(url).text\n",
    "        soup = BeautifulSoup(html, \"html.parser\")\n",
    "        script = soup.findAll(\"script\", text=re.compile(\"window._sharedData\"))[0].text\n",
    "        json_str = script.replace('window._sharedData = ', '').replace(';', '')\n",
    "        data = json.loads(json_str)\n",
    "        return data['entry_data']['ProfilePage'][0]['graphql']['user']['edge_followed_by']['count']\n",
    "    except Exception as e:\n",
    "        print(\"CANT GET DATA : username = %s; %s;\" % (username, e))"
   ]
  },
  {
   "cell_type": "code",
   "execution_count": 6,
   "metadata": {},
   "outputs": [],
   "source": [
    "def caption2tags(caption):\n",
    "    candidates = caption.split(' ')\n",
    "    tags = []\n",
    "    for tag in candidates:\n",
    "        if tag[0] == '#':\n",
    "            count = get_tag_count(tag[1:])\n",
    "            if count != -1:\n",
    "                tags.append({tag[1:]: count})\n",
    "    return tags"
   ]
  },
  {
   "cell_type": "code",
   "execution_count": 7,
   "metadata": {},
   "outputs": [],
   "source": [
    "def get_data_by_tag(tag):\n",
    "    posts = []\n",
    "    try:\n",
    "        url = INSTAGRAM_HOST_NAME+ 'explore/tags/' +  tag\n",
    "        html = requests.get(url).text\n",
    "        soup = BeautifulSoup(html, \"html.parser\")\n",
    "        script = soup.findAll(\"script\", text=re.compile(\"window._sharedData\"))[0].text\n",
    "        json_str = script.replace('window._sharedData = ', '').replace(';', '')\n",
    "        data = json.loads(json_str)\n",
    "        for node in data['entry_data']['TagPage'][0]['graphql']['hashtag']['edge_hashtag_to_media']['edges']:\n",
    "            post = {}\n",
    "            post['shortcode'] = node['node']['shortcode']\n",
    "            username = get_username_by_shortcode(post['shortcode'])\n",
    "            post['followered'] = get_followed_by_username(username)\n",
    "            post['tag'] = caption2tags(node['node']['edge_media_to_caption']['edges'][0]['node']['text'])\n",
    "            post['image'] = node['node']['display_url']\n",
    "            post['like'] = node['node']['edge_liked_by']['count']\n",
    "\n",
    "            posts.append(post)\n",
    "            sleep(1)\n",
    "        return posts\n",
    "    except Exception as e:\n",
    "        print(\"CANT GET DATA : tag_name = %s; %s;\" % (tag, e))"
   ]
  },
  {
   "cell_type": "code",
   "execution_count": 8,
   "metadata": {},
   "outputs": [],
   "source": [
    "tag = 'nagaokatenmangu'"
   ]
  },
  {
   "cell_type": "code",
   "execution_count": null,
   "metadata": {},
   "outputs": [],
   "source": [
    "posts = get_data_by_tag(tag)"
   ]
  },
  {
   "cell_type": "code",
   "execution_count": null,
   "metadata": {
    "scrolled": true
   },
   "outputs": [],
   "source": [
    "posts"
   ]
  },
  {
   "cell_type": "code",
   "execution_count": null,
   "metadata": {},
   "outputs": [],
   "source": [
    "# with open(\"/root/userspace/finalwork/data/posts.pcl\", \"wb\") as pf:\n",
    "with open(\"./data/posts.pcl\", \"wb\") as pf:\n",
    "    pickle.dump(posts, pf)"
   ]
  },
  {
   "cell_type": "code",
   "execution_count": null,
   "metadata": {},
   "outputs": [],
   "source": []
  }
 ],
 "metadata": {
  "kernelspec": {
   "display_name": "Python 3",
   "language": "python",
   "name": "python3"
  },
  "language_info": {
   "codemirror_mode": {
    "name": "ipython",
    "version": 3
   },
   "file_extension": ".py",
   "mimetype": "text/x-python",
   "name": "python",
   "nbconvert_exporter": "python",
   "pygments_lexer": "ipython3",
   "version": "3.6.5"
  }
 },
 "nbformat": 4,
 "nbformat_minor": 2
}
