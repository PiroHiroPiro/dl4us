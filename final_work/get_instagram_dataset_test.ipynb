{
 "cells": [
  {
   "cell_type": "code",
   "execution_count": 47,
   "metadata": {},
   "outputs": [],
   "source": [
    "import requests\n",
    "from bs4 import BeautifulSoup\n",
    "import pickle\n",
    "from time import sleep\n",
    "import re\n",
    "import json"
   ]
  },
  {
   "cell_type": "code",
   "execution_count": 86,
   "metadata": {},
   "outputs": [],
   "source": [
    "INSTAGRAM_FORMAT = 'https://www.instagram.com/explore/tags/'"
   ]
  },
  {
   "cell_type": "code",
   "execution_count": 87,
   "metadata": {},
   "outputs": [],
   "source": [
    "tag = 'kinkakuji'"
   ]
  },
  {
   "cell_type": "code",
   "execution_count": 116,
   "metadata": {},
   "outputs": [
    {
     "name": "stdout",
     "output_type": "stream",
     "text": [
      "hashtag_count 155991\n"
     ]
    }
   ],
   "source": [
    "try:\n",
    "    url = INSTAGRAM_FORMAT +  tag\n",
    "    html = requests.get(url).text\n",
    "    soup = BeautifulSoup(html, \"html.parser\")\n",
    "    script = soup.findAll(\"script\", text=re.compile(\"window._sharedData\"))[0].text\n",
    "    json_str = script.replace('window._sharedData = ', '').replace(';', '')\n",
    "    data = json.loads(json_str)\n",
    "    print('hashtag_count', data['entry_data']['TagPage'][0]['graphql']['hashtag']['edge_hashtag_to_media']['count'])\n",
    "except Exception as e:\n",
    "    print(\"CANT GET DATA : tag_name = %s; %s;\" % (tag, e))"
   ]
  },
  {
   "cell_type": "code",
   "execution_count": 93,
   "metadata": {
    "scrolled": true
   },
   "outputs": [
    {
     "name": "stdout",
     "output_type": "stream",
     "text": [
      "{'comments_disabled': False, '__typename': 'GraphSidecar', 'id': '1880498687860618881', 'edge_media_to_caption': {'edges': [{'node': {'text': 'Temple time ⛩'}}]}, 'shortcode': 'BoY35fihTaB', 'edge_media_to_comment': {'count': 1}, 'taken_at_timestamp': 1538392934, 'dimensions': {'height': 1080, 'width': 1080}, 'display_url': 'https://scontent-nrt1-1.cdninstagram.com/vp/b233efa29dd7db825de32c4653dcfa1a/5C4D9C7D/t51.2885-15/e35/41739267_163022274580867_1295537231695192477_n.jpg', 'edge_liked_by': {'count': 2}, 'edge_media_preview_like': {'count': 2}, 'owner': {'id': '173607283'}, 'thumbnail_src': 'https://scontent-nrt1-1.cdninstagram.com/vp/dafb274f30e7ad38f8600a83e3bf763b/5C44C198/t51.2885-15/sh0.08/e35/s640x640/41739267_163022274580867_1295537231695192477_n.jpg', 'thumbnail_resources': [{'src': 'https://scontent-nrt1-1.cdninstagram.com/vp/c507a66b7b723bf856b9ab7b0f7395c6/5C44113F/t51.2885-15/e35/s150x150/41739267_163022274580867_1295537231695192477_n.jpg', 'config_width': 150, 'config_height': 150}, {'src': 'https://scontent-nrt1-1.cdninstagram.com/vp/ab471e01b95b481e531761af85c62791/5C503175/t51.2885-15/e35/s240x240/41739267_163022274580867_1295537231695192477_n.jpg', 'config_width': 240, 'config_height': 240}, {'src': 'https://scontent-nrt1-1.cdninstagram.com/vp/0dd91486c4b432f33f4440c7ce4cf762/5C486BCF/t51.2885-15/e35/s320x320/41739267_163022274580867_1295537231695192477_n.jpg', 'config_width': 320, 'config_height': 320}, {'src': 'https://scontent-nrt1-1.cdninstagram.com/vp/a0c596e3a8e8458ff9aa6aba0b64f075/5C480C95/t51.2885-15/e35/s480x480/41739267_163022274580867_1295537231695192477_n.jpg', 'config_width': 480, 'config_height': 480}, {'src': 'https://scontent-nrt1-1.cdninstagram.com/vp/dafb274f30e7ad38f8600a83e3bf763b/5C44C198/t51.2885-15/sh0.08/e35/s640x640/41739267_163022274580867_1295537231695192477_n.jpg', 'config_width': 640, 'config_height': 640}], 'is_video': False, 'accessibility_caption': None}\n",
      "\n",
      "shortcode BoY35fihTaB\n",
      "owner {'id': '173607283'}\n",
      "edge_media_to_caption Temple time ⛩\n",
      "display_url https://scontent-nrt1-1.cdninstagram.com/vp/b233efa29dd7db825de32c4653dcfa1a/5C4D9C7D/t51.2885-15/e35/41739267_163022274580867_1295537231695192477_n.jpg\n",
      "thumbnail_src https://scontent-nrt1-1.cdninstagram.com/vp/dafb274f30e7ad38f8600a83e3bf763b/5C44C198/t51.2885-15/sh0.08/e35/s640x640/41739267_163022274580867_1295537231695192477_n.jpg\n",
      "edge_liked_by 2\n",
      "\n",
      "comments_disabled\n",
      "__typename\n",
      "id\n",
      "edge_media_to_caption\n",
      "shortcode\n",
      "edge_media_to_comment\n",
      "taken_at_timestamp\n",
      "dimensions\n",
      "display_url\n",
      "edge_liked_by\n",
      "edge_media_preview_like\n",
      "owner\n",
      "thumbnail_src\n",
      "thumbnail_resources\n",
      "is_video\n",
      "accessibility_caption\n",
      "----------------------------------\n"
     ]
    }
   ],
   "source": [
    "try:\n",
    "    url = INSTAGRAM_FORMAT +  tag\n",
    "    html = requests.get(url).text\n",
    "    soup = BeautifulSoup(html, \"html.parser\")\n",
    "    script = soup.findAll(\"script\", text=re.compile(\"window._sharedData\"))[0].text\n",
    "    json_str = script.replace('window._sharedData = ', '').replace(';', '')\n",
    "    data = json.loads(json_str)\n",
    "    for node in data['entry_data']['TagPage'][0]['graphql']['hashtag']['edge_hashtag_to_media']['edges'][:1]:\n",
    "#         print(node['node'])\n",
    "        print('')\n",
    "        print('shortcode', node['node']['shortcode'])\n",
    "#         print('owner', node['node']['owner'])\n",
    "        print('edge_media_to_caption', node['node']['edge_media_to_caption']['edges'][0]['node']['text'])\n",
    "        print('display_url', node['node']['display_url'])\n",
    "#         print('thumbnail_src', node['node']['thumbnail_src'])\n",
    "        print('edge_liked_by', node['node']['edge_liked_by']['count'])\n",
    "        print('')\n",
    "        for k in node['node']:\n",
    "            print(k)\n",
    "        print('----------------------------------')\n",
    "except Exception as e:\n",
    "    print(\"CANT GET DATA : tag_name = %s; %s;\" % (tag, e))"
   ]
  },
  {
   "cell_type": "code",
   "execution_count": 95,
   "metadata": {},
   "outputs": [],
   "source": [
    "shortcode = 'BoY35fihTaB'"
   ]
  },
  {
   "cell_type": "code",
   "execution_count": 107,
   "metadata": {},
   "outputs": [
    {
     "name": "stdout",
     "output_type": "stream",
     "text": [
      "username csarikas\n"
     ]
    }
   ],
   "source": [
    "try:\n",
    "    url = 'https://www.instagram.com/p/' + shortcode\n",
    "    html = requests.get(url).text\n",
    "    soup = BeautifulSoup(html, \"html.parser\")\n",
    "    script = soup.findAll(\"script\", text=re.compile(\"window._sharedData\"))[0].text\n",
    "    json_str = script.replace('window._sharedData = ', '').replace(';', '')\n",
    "    data = json.loads(json_str)\n",
    "    print('username', data['entry_data']['PostPage'][0]['graphql']['shortcode_media']['edge_media_to_comment']['edges'][0]['node']['owner']['username'])\n",
    "except Exception as e:\n",
    "    print(\"CANT GET DATA : shortcode = %s; %s;\" % (shortcode, e))"
   ]
  },
  {
   "cell_type": "code",
   "execution_count": 108,
   "metadata": {},
   "outputs": [],
   "source": [
    "username = 'csarikas'"
   ]
  },
  {
   "cell_type": "code",
   "execution_count": 112,
   "metadata": {
    "scrolled": true
   },
   "outputs": [
    {
     "name": "stdout",
     "output_type": "stream",
     "text": [
      "followerd 110\n"
     ]
    }
   ],
   "source": [
    "try:\n",
    "    url = 'https://www.instagram.com/' + username\n",
    "    html = requests.get(url).text\n",
    "    soup = BeautifulSoup(html, \"html.parser\")\n",
    "    script = soup.findAll(\"script\", text=re.compile(\"window._sharedData\"))[0].text\n",
    "    json_str = script.replace('window._sharedData = ', '').replace(';', '')\n",
    "    data = json.loads(json_str)\n",
    "    print('followerd', data['entry_data']['ProfilePage'][0]['graphql']['user']['edge_followed_by']['count'])\n",
    "except Exception as e:\n",
    "    print(\"CANT GET DATA : shortcode = %s; %s;\" % (shortcode, e))"
   ]
  },
  {
   "cell_type": "code",
   "execution_count": null,
   "metadata": {},
   "outputs": [],
   "source": []
  }
 ],
 "metadata": {
  "kernelspec": {
   "display_name": "Python 3",
   "language": "python",
   "name": "python3"
  },
  "language_info": {
   "codemirror_mode": {
    "name": "ipython",
    "version": 3
   },
   "file_extension": ".py",
   "mimetype": "text/x-python",
   "name": "python",
   "nbconvert_exporter": "python",
   "pygments_lexer": "ipython3",
   "version": "3.6.5"
  }
 },
 "nbformat": 4,
 "nbformat_minor": 2
}
