{
 "cells": [
  {
   "cell_type": "markdown",
   "metadata": {},
   "source": [
    "# Lesson2 畳み込みニューラルネットワーク (CNN)"
   ]
  },
  {
   "cell_type": "markdown",
   "metadata": {},
   "source": [
    "## Homework"
   ]
  },
  {
   "cell_type": "markdown",
   "metadata": {},
   "source": [
    "今Lessonで学んだことに工夫を加えて, CNNでより高精度なCIFAR10の分類器を実装してみましょう.\n",
    "精度上位者はリーダーボードに載ります."
   ]
  },
  {
   "cell_type": "markdown",
   "metadata": {},
   "source": [
    "### 目標値"
   ]
  },
  {
   "cell_type": "markdown",
   "metadata": {},
   "source": [
    "Accuracy 90%"
   ]
  },
  {
   "cell_type": "markdown",
   "metadata": {},
   "source": [
    "### ルール"
   ]
  },
  {
   "cell_type": "markdown",
   "metadata": {},
   "source": [
    "- ネットワークの形などは特に制限を設けません.\n",
    "- アンサンブル学習などを組み込んでもOKです.\n",
    "- **下のセルで指定されている`x_train`, `y_train`以外の学習データは使わないでください.**"
   ]
  },
  {
   "cell_type": "markdown",
   "metadata": {},
   "source": [
    "### 評価について"
   ]
  },
  {
   "cell_type": "markdown",
   "metadata": {},
   "source": [
    "- テストデータ(`x_test`)に対する予測ラベルをcsvファイルで提出してください.\n",
    "- ファイル名は`submission.csv`としてください.\n",
    "- 予測ラベルの`y_test`に対する精度 (Accuracy) で評価します.\n",
    "- 毎日24時にテストデータの一部に対する精度でLeader Boardを更新します.\n",
    "- 最終的な評価はテストデータ全体に対する精度でおこないます."
   ]
  },
  {
   "cell_type": "markdown",
   "metadata": {},
   "source": [
    "### サンプルコード"
   ]
  },
  {
   "cell_type": "markdown",
   "metadata": {},
   "source": [
    "**次のセルで指定されている`x_train`, `y_train`のみを使って学習させてください.**"
   ]
  },
  {
   "cell_type": "code",
   "execution_count": 1,
   "metadata": {},
   "outputs": [],
   "source": [
    "import numpy as np\n",
    "import pandas as pd\n",
    "\n",
    "def load_cifar10():\n",
    "    \n",
    "    # 学習データ\n",
    "    x_train = np.load('/root/userspace/public/lesson2/data/x_train.npy')\n",
    "    y_train = np.load('/root/userspace/public/lesson2/data/y_train.npy')\n",
    "\n",
    "    # テストデータ\n",
    "    x_test = np.load('/root/userspace/public/lesson2/data/x_test.npy')\n",
    "    \n",
    "    x_train = x_train / 255.\n",
    "    x_test = x_test / 255.\n",
    "    \n",
    "    y_train = np.eye(10)[y_train]\n",
    "    \n",
    "    return (x_train, x_test, y_train)\n",
    "\n",
    "x_train, x_test, y_train = load_cifar10()"
   ]
  },
  {
   "cell_type": "code",
   "execution_count": 2,
   "metadata": {},
   "outputs": [
    {
     "name": "stderr",
     "output_type": "stream",
     "text": [
      "Using TensorFlow backend.\n"
     ]
    }
   ],
   "source": [
    "from keras.models import Sequential\n",
    "from keras.layers import Dense, Conv2D, MaxPooling2D, Flatten, Dropout\n",
    "from keras.optimizers import Adam\n",
    "\n",
    "model = Sequential()\n",
    "\n",
    "model.add(Conv2D(32, kernel_size=(3, 3), activation='relu', input_shape=(32, 32, 3)))\n",
    "model.add(Conv2D(64, kernel_size=(3, 3), activation='relu'))\n",
    "model.add(MaxPooling2D(pool_size=(2, 2)))\n",
    "model.add(Dropout(0.25))\n",
    "\n",
    "model.add(Conv2D(128, kernel_size=(3, 3), activation='relu'))\n",
    "model.add(MaxPooling2D(pool_size=(2, 2)))\n",
    "model.add(Conv2D(128, kernel_size=(3, 3), activation='relu'))\n",
    "model.add(MaxPooling2D(pool_size=(2, 2)))\n",
    "model.add(Dropout(0.25))\n",
    "\n",
    "model.add(Flatten())\n",
    "model.add(Dense(1024, activation='relu'))\n",
    "model.add(Dropout(0.5))\n",
    "model.add(Dense(10, activation='softmax'))"
   ]
  },
  {
   "cell_type": "code",
   "execution_count": 3,
   "metadata": {},
   "outputs": [],
   "source": [
    "model.compile(loss='categorical_crossentropy', optimizer=Adam(lr=0.0001, decay=1e-6), metrics=['accuracy'])"
   ]
  },
  {
   "cell_type": "code",
   "execution_count": 4,
   "metadata": {},
   "outputs": [
    {
     "data": {
      "image/svg+xml": [
       "<svg height=\"994pt\" viewBox=\"0.00 0.00 262.00 994.00\" width=\"262pt\" xmlns=\"http://www.w3.org/2000/svg\" xmlns:xlink=\"http://www.w3.org/1999/xlink\">\n",
       "<g class=\"graph\" id=\"graph0\" transform=\"scale(1 1) rotate(0) translate(4 990)\">\n",
       "<title>G</title>\n",
       "<polygon fill=\"white\" points=\"-4,4 -4,-990 258,-990 258,4 -4,4\" stroke=\"none\"/>\n",
       "<!-- 139910067875792 -->\n",
       "<g class=\"node\" id=\"node1\"><title>139910067875792</title>\n",
       "<polygon fill=\"none\" points=\"17.5,-949.5 17.5,-985.5 236.5,-985.5 236.5,-949.5 17.5,-949.5\" stroke=\"black\"/>\n",
       "<text font-family=\"Times,serif\" font-size=\"14.00\" text-anchor=\"middle\" x=\"127\" y=\"-963.8\">conv2d_1_input: InputLayer</text>\n",
       "</g>\n",
       "<!-- 139910067875512 -->\n",
       "<g class=\"node\" id=\"node2\"><title>139910067875512</title>\n",
       "<polygon fill=\"none\" points=\"51.5,-876.5 51.5,-912.5 202.5,-912.5 202.5,-876.5 51.5,-876.5\" stroke=\"black\"/>\n",
       "<text font-family=\"Times,serif\" font-size=\"14.00\" text-anchor=\"middle\" x=\"127\" y=\"-890.8\">conv2d_1: Conv2D</text>\n",
       "</g>\n",
       "<!-- 139910067875792&#45;&gt;139910067875512 -->\n",
       "<g class=\"edge\" id=\"edge1\"><title>139910067875792-&gt;139910067875512</title>\n",
       "<path d=\"M127,-949.313C127,-941.289 127,-931.547 127,-922.569\" fill=\"none\" stroke=\"black\"/>\n",
       "<polygon fill=\"black\" points=\"130.5,-922.529 127,-912.529 123.5,-922.529 130.5,-922.529\" stroke=\"black\"/>\n",
       "</g>\n",
       "<!-- 139910067875736 -->\n",
       "<g class=\"node\" id=\"node3\"><title>139910067875736</title>\n",
       "<polygon fill=\"none\" points=\"51.5,-803.5 51.5,-839.5 202.5,-839.5 202.5,-803.5 51.5,-803.5\" stroke=\"black\"/>\n",
       "<text font-family=\"Times,serif\" font-size=\"14.00\" text-anchor=\"middle\" x=\"127\" y=\"-817.8\">conv2d_2: Conv2D</text>\n",
       "</g>\n",
       "<!-- 139910067875512&#45;&gt;139910067875736 -->\n",
       "<g class=\"edge\" id=\"edge2\"><title>139910067875512-&gt;139910067875736</title>\n",
       "<path d=\"M127,-876.313C127,-868.289 127,-858.547 127,-849.569\" fill=\"none\" stroke=\"black\"/>\n",
       "<polygon fill=\"black\" points=\"130.5,-849.529 127,-839.529 123.5,-849.529 130.5,-849.529\" stroke=\"black\"/>\n",
       "</g>\n",
       "<!-- 139907401892248 -->\n",
       "<g class=\"node\" id=\"node4\"><title>139907401892248</title>\n",
       "<polygon fill=\"none\" points=\"0,-730.5 0,-766.5 254,-766.5 254,-730.5 0,-730.5\" stroke=\"black\"/>\n",
       "<text font-family=\"Times,serif\" font-size=\"14.00\" text-anchor=\"middle\" x=\"127\" y=\"-744.8\">max_pooling2d_1: MaxPooling2D</text>\n",
       "</g>\n",
       "<!-- 139910067875736&#45;&gt;139907401892248 -->\n",
       "<g class=\"edge\" id=\"edge3\"><title>139910067875736-&gt;139907401892248</title>\n",
       "<path d=\"M127,-803.313C127,-795.289 127,-785.547 127,-776.569\" fill=\"none\" stroke=\"black\"/>\n",
       "<polygon fill=\"black\" points=\"130.5,-776.529 127,-766.529 123.5,-776.529 130.5,-776.529\" stroke=\"black\"/>\n",
       "</g>\n",
       "<!-- 139907401891912 -->\n",
       "<g class=\"node\" id=\"node5\"><title>139907401891912</title>\n",
       "<polygon fill=\"none\" points=\"48.5,-657.5 48.5,-693.5 205.5,-693.5 205.5,-657.5 48.5,-657.5\" stroke=\"black\"/>\n",
       "<text font-family=\"Times,serif\" font-size=\"14.00\" text-anchor=\"middle\" x=\"127\" y=\"-671.8\">dropout_1: Dropout</text>\n",
       "</g>\n",
       "<!-- 139907401892248&#45;&gt;139907401891912 -->\n",
       "<g class=\"edge\" id=\"edge4\"><title>139907401892248-&gt;139907401891912</title>\n",
       "<path d=\"M127,-730.313C127,-722.289 127,-712.547 127,-703.569\" fill=\"none\" stroke=\"black\"/>\n",
       "<polygon fill=\"black\" points=\"130.5,-703.529 127,-693.529 123.5,-703.529 130.5,-703.529\" stroke=\"black\"/>\n",
       "</g>\n",
       "<!-- 139907401585160 -->\n",
       "<g class=\"node\" id=\"node6\"><title>139907401585160</title>\n",
       "<polygon fill=\"none\" points=\"51.5,-584.5 51.5,-620.5 202.5,-620.5 202.5,-584.5 51.5,-584.5\" stroke=\"black\"/>\n",
       "<text font-family=\"Times,serif\" font-size=\"14.00\" text-anchor=\"middle\" x=\"127\" y=\"-598.8\">conv2d_3: Conv2D</text>\n",
       "</g>\n",
       "<!-- 139907401891912&#45;&gt;139907401585160 -->\n",
       "<g class=\"edge\" id=\"edge5\"><title>139907401891912-&gt;139907401585160</title>\n",
       "<path d=\"M127,-657.313C127,-649.289 127,-639.547 127,-630.569\" fill=\"none\" stroke=\"black\"/>\n",
       "<polygon fill=\"black\" points=\"130.5,-630.529 127,-620.529 123.5,-630.529 130.5,-630.529\" stroke=\"black\"/>\n",
       "</g>\n",
       "<!-- 139907401586504 -->\n",
       "<g class=\"node\" id=\"node7\"><title>139907401586504</title>\n",
       "<polygon fill=\"none\" points=\"0,-511.5 0,-547.5 254,-547.5 254,-511.5 0,-511.5\" stroke=\"black\"/>\n",
       "<text font-family=\"Times,serif\" font-size=\"14.00\" text-anchor=\"middle\" x=\"127\" y=\"-525.8\">max_pooling2d_2: MaxPooling2D</text>\n",
       "</g>\n",
       "<!-- 139907401585160&#45;&gt;139907401586504 -->\n",
       "<g class=\"edge\" id=\"edge6\"><title>139907401585160-&gt;139907401586504</title>\n",
       "<path d=\"M127,-584.313C127,-576.289 127,-566.547 127,-557.569\" fill=\"none\" stroke=\"black\"/>\n",
       "<polygon fill=\"black\" points=\"130.5,-557.529 127,-547.529 123.5,-557.529 130.5,-557.529\" stroke=\"black\"/>\n",
       "</g>\n",
       "<!-- 139910972077952 -->\n",
       "<g class=\"node\" id=\"node8\"><title>139910972077952</title>\n",
       "<polygon fill=\"none\" points=\"51.5,-438.5 51.5,-474.5 202.5,-474.5 202.5,-438.5 51.5,-438.5\" stroke=\"black\"/>\n",
       "<text font-family=\"Times,serif\" font-size=\"14.00\" text-anchor=\"middle\" x=\"127\" y=\"-452.8\">conv2d_4: Conv2D</text>\n",
       "</g>\n",
       "<!-- 139907401586504&#45;&gt;139910972077952 -->\n",
       "<g class=\"edge\" id=\"edge7\"><title>139907401586504-&gt;139910972077952</title>\n",
       "<path d=\"M127,-511.313C127,-503.289 127,-493.547 127,-484.569\" fill=\"none\" stroke=\"black\"/>\n",
       "<polygon fill=\"black\" points=\"130.5,-484.529 127,-474.529 123.5,-484.529 130.5,-484.529\" stroke=\"black\"/>\n",
       "</g>\n",
       "<!-- 139907401374184 -->\n",
       "<g class=\"node\" id=\"node9\"><title>139907401374184</title>\n",
       "<polygon fill=\"none\" points=\"0,-365.5 0,-401.5 254,-401.5 254,-365.5 0,-365.5\" stroke=\"black\"/>\n",
       "<text font-family=\"Times,serif\" font-size=\"14.00\" text-anchor=\"middle\" x=\"127\" y=\"-379.8\">max_pooling2d_3: MaxPooling2D</text>\n",
       "</g>\n",
       "<!-- 139910972077952&#45;&gt;139907401374184 -->\n",
       "<g class=\"edge\" id=\"edge8\"><title>139910972077952-&gt;139907401374184</title>\n",
       "<path d=\"M127,-438.313C127,-430.289 127,-420.547 127,-411.569\" fill=\"none\" stroke=\"black\"/>\n",
       "<polygon fill=\"black\" points=\"130.5,-411.529 127,-401.529 123.5,-411.529 130.5,-411.529\" stroke=\"black\"/>\n",
       "</g>\n",
       "<!-- 139907400924184 -->\n",
       "<g class=\"node\" id=\"node10\"><title>139907400924184</title>\n",
       "<polygon fill=\"none\" points=\"48.5,-292.5 48.5,-328.5 205.5,-328.5 205.5,-292.5 48.5,-292.5\" stroke=\"black\"/>\n",
       "<text font-family=\"Times,serif\" font-size=\"14.00\" text-anchor=\"middle\" x=\"127\" y=\"-306.8\">dropout_2: Dropout</text>\n",
       "</g>\n",
       "<!-- 139907401374184&#45;&gt;139907400924184 -->\n",
       "<g class=\"edge\" id=\"edge9\"><title>139907401374184-&gt;139907400924184</title>\n",
       "<path d=\"M127,-365.313C127,-357.289 127,-347.547 127,-338.569\" fill=\"none\" stroke=\"black\"/>\n",
       "<polygon fill=\"black\" points=\"130.5,-338.529 127,-328.529 123.5,-338.529 130.5,-338.529\" stroke=\"black\"/>\n",
       "</g>\n",
       "<!-- 139907400991520 -->\n",
       "<g class=\"node\" id=\"node11\"><title>139907400991520</title>\n",
       "<polygon fill=\"none\" points=\"57,-219.5 57,-255.5 197,-255.5 197,-219.5 57,-219.5\" stroke=\"black\"/>\n",
       "<text font-family=\"Times,serif\" font-size=\"14.00\" text-anchor=\"middle\" x=\"127\" y=\"-233.8\">flatten_1: Flatten</text>\n",
       "</g>\n",
       "<!-- 139907400924184&#45;&gt;139907400991520 -->\n",
       "<g class=\"edge\" id=\"edge10\"><title>139907400924184-&gt;139907400991520</title>\n",
       "<path d=\"M127,-292.313C127,-284.289 127,-274.547 127,-265.569\" fill=\"none\" stroke=\"black\"/>\n",
       "<polygon fill=\"black\" points=\"130.5,-265.529 127,-255.529 123.5,-265.529 130.5,-265.529\" stroke=\"black\"/>\n",
       "</g>\n",
       "<!-- 139907400993256 -->\n",
       "<g class=\"node\" id=\"node12\"><title>139907400993256</title>\n",
       "<polygon fill=\"none\" points=\"63,-146.5 63,-182.5 191,-182.5 191,-146.5 63,-146.5\" stroke=\"black\"/>\n",
       "<text font-family=\"Times,serif\" font-size=\"14.00\" text-anchor=\"middle\" x=\"127\" y=\"-160.8\">dense_1: Dense</text>\n",
       "</g>\n",
       "<!-- 139907400991520&#45;&gt;139907400993256 -->\n",
       "<g class=\"edge\" id=\"edge11\"><title>139907400991520-&gt;139907400993256</title>\n",
       "<path d=\"M127,-219.313C127,-211.289 127,-201.547 127,-192.569\" fill=\"none\" stroke=\"black\"/>\n",
       "<polygon fill=\"black\" points=\"130.5,-192.529 127,-182.529 123.5,-192.529 130.5,-192.529\" stroke=\"black\"/>\n",
       "</g>\n",
       "<!-- 139907401059352 -->\n",
       "<g class=\"node\" id=\"node13\"><title>139907401059352</title>\n",
       "<polygon fill=\"none\" points=\"48.5,-73.5 48.5,-109.5 205.5,-109.5 205.5,-73.5 48.5,-73.5\" stroke=\"black\"/>\n",
       "<text font-family=\"Times,serif\" font-size=\"14.00\" text-anchor=\"middle\" x=\"127\" y=\"-87.8\">dropout_3: Dropout</text>\n",
       "</g>\n",
       "<!-- 139907400993256&#45;&gt;139907401059352 -->\n",
       "<g class=\"edge\" id=\"edge12\"><title>139907400993256-&gt;139907401059352</title>\n",
       "<path d=\"M127,-146.313C127,-138.289 127,-128.547 127,-119.569\" fill=\"none\" stroke=\"black\"/>\n",
       "<polygon fill=\"black\" points=\"130.5,-119.529 127,-109.529 123.5,-119.529 130.5,-119.529\" stroke=\"black\"/>\n",
       "</g>\n",
       "<!-- 139907400760344 -->\n",
       "<g class=\"node\" id=\"node14\"><title>139907400760344</title>\n",
       "<polygon fill=\"none\" points=\"63,-0.5 63,-36.5 191,-36.5 191,-0.5 63,-0.5\" stroke=\"black\"/>\n",
       "<text font-family=\"Times,serif\" font-size=\"14.00\" text-anchor=\"middle\" x=\"127\" y=\"-14.8\">dense_2: Dense</text>\n",
       "</g>\n",
       "<!-- 139907401059352&#45;&gt;139907400760344 -->\n",
       "<g class=\"edge\" id=\"edge13\"><title>139907401059352-&gt;139907400760344</title>\n",
       "<path d=\"M127,-73.3129C127,-65.2895 127,-55.5475 127,-46.5691\" fill=\"none\" stroke=\"black\"/>\n",
       "<polygon fill=\"black\" points=\"130.5,-46.5288 127,-36.5288 123.5,-46.5289 130.5,-46.5288\" stroke=\"black\"/>\n",
       "</g>\n",
       "</g>\n",
       "</svg>"
      ],
      "text/plain": [
       "<IPython.core.display.SVG object>"
      ]
     },
     "execution_count": 4,
     "metadata": {},
     "output_type": "execute_result"
    }
   ],
   "source": [
    "from IPython.display import SVG\n",
    "from keras.utils.vis_utils import model_to_dot\n",
    "\n",
    "SVG(model_to_dot(model).create(prog='dot', format='svg'))"
   ]
  },
  {
   "cell_type": "code",
   "execution_count": null,
   "metadata": {},
   "outputs": [],
   "source": [
    "from keras.preprocessing.image import ImageDataGenerator\n",
    "\n",
    "datagen = ImageDataGenerator(\n",
    "    width_shift_range=0.2,  # 3.1.1 左右にずらす\n",
    "    height_shift_range=0.2,  # 3.1.2 上下にずらす\n",
    "    horizontal_flip=True,  # 3.1.3 左右反転\n",
    "    samplewise_center=False,\n",
    "    samplewise_std_normalization=False,\n",
    "    zca_whitening=False)"
   ]
  },
  {
   "cell_type": "code",
   "execution_count": null,
   "metadata": {},
   "outputs": [
    {
     "name": "stdout",
     "output_type": "stream",
     "text": [
      "Epoch 1/250\n",
      "100/100 [==============================] - 22s 224ms/step - loss: 2.1821 - acc: 0.1765\n",
      "Epoch 2/250\n"
     ]
    },
    {
     "name": "stderr",
     "output_type": "stream",
     "text": [
      "/usr/local/lib/python3.5/dist-packages/keras/callbacks.py:494: RuntimeWarning: Early stopping conditioned on metric `val_loss` which is not available. Available metrics are: acc,loss\n",
      "  (self.monitor, ','.join(list(logs.keys()))), RuntimeWarning\n"
     ]
    },
    {
     "name": "stdout",
     "output_type": "stream",
     "text": [
      "100/100 [==============================] - 19s 193ms/step - loss: 1.9522 - acc: 0.2715\n",
      "Epoch 3/250\n",
      "100/100 [==============================] - 19s 193ms/step - loss: 1.8380 - acc: 0.3107\n",
      "Epoch 4/250\n",
      "100/100 [==============================] - 19s 193ms/step - loss: 1.7648 - acc: 0.3405\n",
      "Epoch 5/250\n",
      "100/100 [==============================] - 19s 193ms/step - loss: 1.7079 - acc: 0.3606\n",
      "Epoch 6/250\n",
      "100/100 [==============================] - 19s 194ms/step - loss: 1.6685 - acc: 0.3797\n",
      "Epoch 7/250\n",
      "100/100 [==============================] - 19s 193ms/step - loss: 1.6307 - acc: 0.3956\n",
      "Epoch 8/250\n",
      "100/100 [==============================] - 19s 194ms/step - loss: 1.6033 - acc: 0.4090\n",
      "Epoch 9/250\n",
      "100/100 [==============================] - 19s 193ms/step - loss: 1.5726 - acc: 0.4210\n",
      "Epoch 10/250\n",
      "100/100 [==============================] - 19s 194ms/step - loss: 1.5522 - acc: 0.4282\n",
      "Epoch 11/250\n",
      "100/100 [==============================] - 19s 194ms/step - loss: 1.5270 - acc: 0.4395\n",
      "Epoch 12/250\n",
      "100/100 [==============================] - 19s 194ms/step - loss: 1.5101 - acc: 0.4463\n",
      "Epoch 13/250\n",
      "100/100 [==============================] - 19s 193ms/step - loss: 1.4881 - acc: 0.4577\n",
      "Epoch 14/250\n",
      "100/100 [==============================] - 19s 194ms/step - loss: 1.4599 - acc: 0.4622\n",
      "Epoch 15/250\n",
      "100/100 [==============================] - 19s 194ms/step - loss: 1.4475 - acc: 0.4735\n",
      "Epoch 16/250\n",
      "100/100 [==============================] - 19s 194ms/step - loss: 1.4306 - acc: 0.4774\n",
      "Epoch 17/250\n",
      "100/100 [==============================] - 20s 195ms/step - loss: 1.4180 - acc: 0.4842\n",
      "Epoch 18/250\n",
      "100/100 [==============================] - 19s 194ms/step - loss: 1.3959 - acc: 0.4965\n",
      "Epoch 19/250\n",
      "100/100 [==============================] - 19s 193ms/step - loss: 1.3838 - acc: 0.4993\n",
      "Epoch 20/250\n",
      "100/100 [==============================] - 19s 193ms/step - loss: 1.3670 - acc: 0.5065\n",
      "Epoch 21/250\n",
      "100/100 [==============================] - 19s 193ms/step - loss: 1.3518 - acc: 0.5138\n",
      "Epoch 22/250\n",
      "100/100 [==============================] - 19s 193ms/step - loss: 1.3358 - acc: 0.5182\n",
      "Epoch 23/250\n",
      "100/100 [==============================] - 19s 193ms/step - loss: 1.3233 - acc: 0.5253\n",
      "Epoch 24/250\n",
      "100/100 [==============================] - 19s 194ms/step - loss: 1.3110 - acc: 0.5290\n",
      "Epoch 25/250\n",
      "100/100 [==============================] - 19s 193ms/step - loss: 1.2913 - acc: 0.5375\n",
      "Epoch 26/250\n",
      "100/100 [==============================] - 19s 193ms/step - loss: 1.2862 - acc: 0.5369\n",
      "Epoch 27/250\n",
      "100/100 [==============================] - 19s 192ms/step - loss: 1.2732 - acc: 0.5433\n",
      "Epoch 28/250\n",
      "100/100 [==============================] - 19s 192ms/step - loss: 1.2667 - acc: 0.5478\n",
      "Epoch 29/250\n",
      "100/100 [==============================] - 19s 193ms/step - loss: 1.2514 - acc: 0.5503\n",
      "Epoch 30/250\n",
      "100/100 [==============================] - 19s 193ms/step - loss: 1.2406 - acc: 0.5581\n",
      "Epoch 31/250\n",
      "100/100 [==============================] - 19s 194ms/step - loss: 1.2298 - acc: 0.5605\n",
      "Epoch 32/250\n",
      "100/100 [==============================] - 19s 194ms/step - loss: 1.2186 - acc: 0.5659\n",
      "Epoch 33/250\n",
      "100/100 [==============================] - 19s 193ms/step - loss: 1.2153 - acc: 0.5665\n",
      "Epoch 34/250\n",
      "100/100 [==============================] - 19s 193ms/step - loss: 1.2039 - acc: 0.5706\n",
      "Epoch 35/250\n",
      "100/100 [==============================] - 19s 194ms/step - loss: 1.1997 - acc: 0.5736\n",
      "Epoch 36/250\n",
      "100/100 [==============================] - 19s 194ms/step - loss: 1.1891 - acc: 0.5750\n",
      "Epoch 37/250\n",
      "100/100 [==============================] - 19s 193ms/step - loss: 1.1775 - acc: 0.5797\n",
      "Epoch 38/250\n",
      "100/100 [==============================] - 19s 193ms/step - loss: 1.1814 - acc: 0.5778\n",
      "Epoch 39/250\n",
      "100/100 [==============================] - 19s 193ms/step - loss: 1.1659 - acc: 0.5843\n",
      "Epoch 40/250\n",
      "100/100 [==============================] - 19s 192ms/step - loss: 1.1628 - acc: 0.5867\n",
      "Epoch 41/250\n",
      "100/100 [==============================] - 19s 193ms/step - loss: 1.1472 - acc: 0.5931\n",
      "Epoch 42/250\n",
      "100/100 [==============================] - 19s 194ms/step - loss: 1.1390 - acc: 0.5968\n",
      "Epoch 43/250\n",
      "100/100 [==============================] - 19s 193ms/step - loss: 1.1350 - acc: 0.5963\n",
      "Epoch 44/250\n",
      "100/100 [==============================] - 19s 193ms/step - loss: 1.1291 - acc: 0.5979\n",
      "Epoch 45/250\n",
      "100/100 [==============================] - 19s 193ms/step - loss: 1.1243 - acc: 0.5989\n",
      "Epoch 46/250\n",
      "100/100 [==============================] - 19s 194ms/step - loss: 1.1181 - acc: 0.6026\n",
      "Epoch 47/250\n",
      "100/100 [==============================] - 19s 193ms/step - loss: 1.1099 - acc: 0.6032\n",
      "Epoch 48/250\n",
      "100/100 [==============================] - 19s 194ms/step - loss: 1.1070 - acc: 0.6087\n",
      "Epoch 49/250\n",
      "100/100 [==============================] - 19s 193ms/step - loss: 1.0982 - acc: 0.6091\n",
      "Epoch 50/250\n",
      "100/100 [==============================] - 19s 192ms/step - loss: 1.0912 - acc: 0.6121\n",
      "Epoch 51/250\n",
      "100/100 [==============================] - 19s 193ms/step - loss: 1.0887 - acc: 0.6140\n",
      "Epoch 52/250\n",
      "100/100 [==============================] - 19s 194ms/step - loss: 1.0796 - acc: 0.6169\n",
      "Epoch 53/250\n",
      "100/100 [==============================] - 19s 193ms/step - loss: 1.0739 - acc: 0.6177\n",
      "Epoch 54/250\n",
      "100/100 [==============================] - 19s 193ms/step - loss: 1.0652 - acc: 0.6210\n",
      "Epoch 55/250\n",
      "100/100 [==============================] - 19s 194ms/step - loss: 1.0619 - acc: 0.6218\n",
      "Epoch 56/250\n",
      "100/100 [==============================] - 19s 193ms/step - loss: 1.0639 - acc: 0.6239\n",
      "Epoch 57/250\n",
      "100/100 [==============================] - 19s 194ms/step - loss: 1.0542 - acc: 0.6264\n",
      "Epoch 58/250\n",
      "100/100 [==============================] - 19s 193ms/step - loss: 1.0509 - acc: 0.6263\n",
      "Epoch 59/250\n",
      "100/100 [==============================] - 19s 193ms/step - loss: 1.0414 - acc: 0.6289\n",
      "Epoch 60/250\n",
      "100/100 [==============================] - 19s 192ms/step - loss: 1.0385 - acc: 0.6300\n",
      "Epoch 61/250\n",
      "100/100 [==============================] - 19s 192ms/step - loss: 1.0336 - acc: 0.6337\n",
      "Epoch 62/250\n",
      "100/100 [==============================] - 19s 193ms/step - loss: 1.0300 - acc: 0.6353\n",
      "Epoch 63/250\n",
      " 31/100 [========>.....................] - ETA: 13s - loss: 1.0334 - acc: 0.6336"
     ]
    }
   ],
   "source": [
    "from keras.callbacks import EarlyStopping\n",
    "\n",
    "early_stopping = EarlyStopping(min_delta=0.001, patience=3)\n",
    "\n",
    "model.fit_generator(datagen.flow(x_train, y_train, batch_size=500),\n",
    "                    steps_per_epoch=x_train.shape[0] // 500, epochs=250,  callbacks=[early_stopping])"
   ]
  },
  {
   "cell_type": "code",
   "execution_count": null,
   "metadata": {},
   "outputs": [],
   "source": [
    "y_pred = model.predict(x_test)\n",
    "y_pred = np.argmax(y_pred, 1)"
   ]
  },
  {
   "cell_type": "code",
   "execution_count": null,
   "metadata": {},
   "outputs": [],
   "source": [
    "submission = pd.Series(y_pred, name='label')\n",
    "submission.to_csv('/root/userspace/lesson2/blank/submission.csv', header=True, index_label='id')"
   ]
  },
  {
   "cell_type": "code",
   "execution_count": null,
   "metadata": {},
   "outputs": [],
   "source": []
  }
 ],
 "metadata": {
  "kernelspec": {
   "display_name": "Python 3",
   "language": "python",
   "name": "python3"
  },
  "language_info": {
   "codemirror_mode": {
    "name": "ipython",
    "version": 3
   },
   "file_extension": ".py",
   "mimetype": "text/x-python",
   "name": "python",
   "nbconvert_exporter": "python",
   "pygments_lexer": "ipython3",
   "version": "3.5.2"
  }
 },
 "nbformat": 4,
 "nbformat_minor": 2
}
