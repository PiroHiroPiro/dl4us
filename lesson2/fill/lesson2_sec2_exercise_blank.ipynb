{
 "cells": [
  {
   "cell_type": "markdown",
   "metadata": {},
   "source": [
    "# Lesson2 畳み込みニューラルネットワーク (CNN)"
   ]
  },
  {
   "cell_type": "markdown",
   "metadata": {},
   "source": [
    "## 目次\n",
    "\n",
    "- Section1 解説\n",
    "  - 1.1 CNN基礎\n",
    "  - 1.2 Convolution(畳み込み)層\n",
    "  - 1.3 Pooling(プーリング)層\n",
    "  - 1.4 確認問題\n",
    "\n",
    "- Section2 実装①\n",
    "  - 2.1 Fasion MNISTをCNNでクラス分類\n",
    "  - 2.2 CIFAR10のデータをCNNでクラス分類\n",
    "  \n",
    "- Section3 テクニック・発展内容\n",
    "  - 3.1 Data Augmentation\n",
    "  - 3.2 画像データの正規化\n",
    "  - 3.3 Batch Normalization\n",
    "  - 3.4 Skip Connection  (Residual Network)\n",
    "  - 3.5 学習済みネットワークの利用\n",
    "  - 3.6 学習させたモデルの保存・再利用\n",
    "  - 3.7 確認問題\n",
    "\n",
    "- Section4 実装②\n",
    "  - 4.1 CIFAR10のデータをCNNでクラス分類②\n",
    "\n",
    "- Section5 ケーススタディ\n",
    "\n",
    "- Homework"
   ]
  },
  {
   "cell_type": "markdown",
   "metadata": {},
   "source": [
    "## 1.4の解答\n",
    "問1: ①\n",
    "問2: ①\n",
    "問3: ①\n",
    "問4: ①\n",
    "問5: ①"
   ]
  },
  {
   "cell_type": "code",
   "execution_count": 1,
   "metadata": {},
   "outputs": [
    {
     "name": "stderr",
     "output_type": "stream",
     "text": [
      "Using TensorFlow backend.\n"
     ]
    }
   ],
   "source": [
    "%matplotlib inline\n",
    "\n",
    "import os\n",
    "\n",
    "import keras\n",
    "import numpy as np\n",
    "import matplotlib.pyplot as plt\n",
    "\n",
    "from keras.layers import Dense, Conv2D, MaxPooling2D, Flatten, Input, Activation, add, Add, Dropout\n",
    "from keras.callbacks import EarlyStopping\n",
    "from keras.layers.normalization import BatchNormalization\n",
    "from keras.models import Sequential, Model\n",
    "from keras.datasets import cifar10\n",
    "from keras.datasets import fashion_mnist\n",
    "from keras.utils import to_categorical\n",
    "from sklearn.model_selection import train_test_split\n",
    "\n",
    "from IPython.display import SVG\n",
    "from keras.utils.vis_utils import model_to_dot\n",
    "\n",
    "random_state = 42"
   ]
  },
  {
   "cell_type": "markdown",
   "metadata": {},
   "source": [
    "## Section2 実装①"
   ]
  },
  {
   "cell_type": "markdown",
   "metadata": {},
   "source": [
    "### 2.1 Fasion MNISTをCNNでクラス分類"
   ]
  },
  {
   "cell_type": "markdown",
   "metadata": {},
   "source": [
    "まずは、Lesson1でも扱ったFashion MNISTのデータを今回はCNNを利用してクラス分類していきます。"
   ]
  },
  {
   "cell_type": "markdown",
   "metadata": {},
   "source": [
    "#### 2.1.1 データセットの読み込み"
   ]
  },
  {
   "cell_type": "code",
   "execution_count": 2,
   "metadata": {},
   "outputs": [],
   "source": [
    "(x_train, y_train), (x_test, y_test) = fashion_mnist.load_data()"
   ]
  },
  {
   "cell_type": "code",
   "execution_count": 3,
   "metadata": {},
   "outputs": [
    {
     "data": {
      "image/png": "[encoded data removed]",
      "text/plain": [
       "<matplotlib.figure.Figure at 0x7fab15e04f98>"
      ]
     },
     "metadata": {},
     "output_type": "display_data"
    }
   ],
   "source": [
    "fig = plt.figure(figsize=(9, 15))\n",
    "fig.subplots_adjust(left=0, right=1, bottom=0, top=0.5, hspace=0.05,\n",
    "                    wspace=0.05)\n",
    "\n",
    "for i in range(9):\n",
    "    ax = fig.add_subplot(1, 9, i + 1, xticks=[], yticks=[])\n",
    "    ax.imshow(x_train[i], cmap='gray')"
   ]
  },
  {
   "cell_type": "markdown",
   "metadata": {},
   "source": [
    "このとき読み込んだ画像は(バッチサイズ、縦の画素数、 横の画素数)の次元で表されています。"
   ]
  },
  {
   "cell_type": "code",
   "execution_count": 4,
   "metadata": {},
   "outputs": [
    {
     "data": {
      "text/plain": [
       "(60000, 28, 28)"
      ]
     },
     "execution_count": 4,
     "metadata": {},
     "output_type": "execute_result"
    }
   ],
   "source": [
    "x_train.shape"
   ]
  },
  {
   "cell_type": "code",
   "execution_count": 5,
   "metadata": {},
   "outputs": [],
   "source": [
    "x_train = x_train.reshape((x_train.shape[0], 28, 28, 1)) / 255\n",
    "x_test = x_test.reshape((x_test.shape[0], 28, 28, 1)) / 255\n",
    "y_train = to_categorical(y_train)\n",
    "y_test = to_categorical(y_test)"
   ]
  },
  {
   "cell_type": "markdown",
   "metadata": {},
   "source": [
    "Lesson1の多層パーセプトロンでは入力を (バッチサイズ, 画素数) の2次元テンソルとして扱いましたが、 CNNでは2次元の画像として処理していくために4次元テンソル (バッチサイズ、縦の画素数、横の画素数、チャンネル数)として扱います。 チャンネル数は白黒画像の場合は1、 カラー画像の場合はRGBで3です。\n",
    "\n",
    "Fashion MNISTの画像は白黒データですのでチャンネル数を1に設定しています。(カラー画像ですとチャンネル数が3になります。)"
   ]
  },
  {
   "cell_type": "code",
   "execution_count": 6,
   "metadata": {},
   "outputs": [
    {
     "data": {
      "text/plain": [
       "(60000, 28, 28, 1)"
      ]
     },
     "execution_count": 6,
     "metadata": {},
     "output_type": "execute_result"
    }
   ],
   "source": [
    "x_train.shape"
   ]
  },
  {
   "cell_type": "markdown",
   "metadata": {},
   "source": [
    "#### 2.1.2 実装"
   ]
  },
  {
   "cell_type": "code",
   "execution_count": 7,
   "metadata": {},
   "outputs": [],
   "source": [
    "model = Sequential()\n",
    "\n",
    "# 入力画像 28x28x1 (縦の画素数)x(横の画素数)x(チャンネル数)\n",
    "model.add(Conv2D(16, kernel_size=(5, 5), activation='relu',\n",
    "                 kernel_initializer='he_normal', input_shape=(28, 28, 1)))  # 28x28x1 -> 24x24x16\n",
    "model.add(MaxPooling2D(pool_size=(2, 2)))  # 24x24x16 -> 12x12x16\n",
    "model.add(Conv2D(64, kernel_size=(5, 5), activation='relu',\n",
    "                 kernel_initializer='he_normal'))  # 12x12x16 -> 8x8x64\n",
    "model.add(MaxPooling2D(pool_size=(2, 2)))  # 8x8x64 -> 4x4x64\n",
    "\n",
    "model.add(Flatten())  # 4x4x64-> 1024\n",
    "model.add(Dense(10, activation='softmax'))  # 1024 -> 10\n",
    "\n",
    "model.compile(\n",
    "    loss=keras.losses.categorical_crossentropy,\n",
    "    optimizer='adam',\n",
    "    metrics=['accuracy']\n",
    ")"
   ]
  },
  {
   "cell_type": "markdown",
   "metadata": {},
   "source": [
    "作成したモデルを確認してみましょう。"
   ]
  },
  {
   "cell_type": "code",
   "execution_count": 8,
   "metadata": {},
   "outputs": [
    {
     "data": {
      "image/svg+xml": [
       "<svg height=\"553pt\" viewBox=\"0.00 0.00 476.00 553.00\" width=\"476pt\" xmlns=\"http://www.w3.org/2000/svg\" xmlns:xlink=\"http://www.w3.org/1999/xlink\">\n",
       "<g class=\"graph\" id=\"graph0\" transform=\"scale(1 1) rotate(0) translate(4 549)\">\n",
       "<title>G</title>\n",
       "<polygon fill=\"white\" points=\"-4,4 -4,-549 472,-549 472,4 -4,4\" stroke=\"none\"/>\n",
       "<!-- 140372691073176 -->\n",
       "<g class=\"node\" id=\"node1\"><title>140372691073176</title>\n",
       "<polygon fill=\"none\" points=\"22,-498.5 22,-544.5 446,-544.5 446,-498.5 22,-498.5\" stroke=\"black\"/>\n",
       "<text font-family=\"Times,serif\" font-size=\"14.00\" text-anchor=\"middle\" x=\"131.5\" y=\"-517.8\">conv2d_1_input: InputLayer</text>\n",
       "<polyline fill=\"none\" points=\"241,-498.5 241,-544.5 \" stroke=\"black\"/>\n",
       "<text font-family=\"Times,serif\" font-size=\"14.00\" text-anchor=\"middle\" x=\"275\" y=\"-529.3\">input:</text>\n",
       "<polyline fill=\"none\" points=\"241,-521.5 309,-521.5 \" stroke=\"black\"/>\n",
       "<text font-family=\"Times,serif\" font-size=\"14.00\" text-anchor=\"middle\" x=\"275\" y=\"-506.3\">output:</text>\n",
       "<polyline fill=\"none\" points=\"309,-498.5 309,-544.5 \" stroke=\"black\"/>\n",
       "<text font-family=\"Times,serif\" font-size=\"14.00\" text-anchor=\"middle\" x=\"377.5\" y=\"-529.3\">(None, 28, 28, 1)</text>\n",
       "<polyline fill=\"none\" points=\"309,-521.5 446,-521.5 \" stroke=\"black\"/>\n",
       "<text font-family=\"Times,serif\" font-size=\"14.00\" text-anchor=\"middle\" x=\"377.5\" y=\"-506.3\">(None, 28, 28, 1)</text>\n",
       "</g>\n",
       "<!-- 140372691072840 -->\n",
       "<g class=\"node\" id=\"node2\"><title>140372691072840</title>\n",
       "<polygon fill=\"none\" points=\"51.5,-415.5 51.5,-461.5 416.5,-461.5 416.5,-415.5 51.5,-415.5\" stroke=\"black\"/>\n",
       "<text font-family=\"Times,serif\" font-size=\"14.00\" text-anchor=\"middle\" x=\"127\" y=\"-434.8\">conv2d_1: Conv2D</text>\n",
       "<polyline fill=\"none\" points=\"202.5,-415.5 202.5,-461.5 \" stroke=\"black\"/>\n",
       "<text font-family=\"Times,serif\" font-size=\"14.00\" text-anchor=\"middle\" x=\"236.5\" y=\"-446.3\">input:</text>\n",
       "<polyline fill=\"none\" points=\"202.5,-438.5 270.5,-438.5 \" stroke=\"black\"/>\n",
       "<text font-family=\"Times,serif\" font-size=\"14.00\" text-anchor=\"middle\" x=\"236.5\" y=\"-423.3\">output:</text>\n",
       "<polyline fill=\"none\" points=\"270.5,-415.5 270.5,-461.5 \" stroke=\"black\"/>\n",
       "<text font-family=\"Times,serif\" font-size=\"14.00\" text-anchor=\"middle\" x=\"343.5\" y=\"-446.3\">(None, 28, 28, 1)</text>\n",
       "<polyline fill=\"none\" points=\"270.5,-438.5 416.5,-438.5 \" stroke=\"black\"/>\n",
       "<text font-family=\"Times,serif\" font-size=\"14.00\" text-anchor=\"middle\" x=\"343.5\" y=\"-423.3\">(None, 24, 24, 16)</text>\n",
       "</g>\n",
       "<!-- 140372691073176&#45;&gt;140372691072840 -->\n",
       "<g class=\"edge\" id=\"edge1\"><title>140372691073176-&gt;140372691072840</title>\n",
       "<path d=\"M234,-498.366C234,-490.152 234,-480.658 234,-471.725\" fill=\"none\" stroke=\"black\"/>\n",
       "<polygon fill=\"black\" points=\"237.5,-471.607 234,-461.607 230.5,-471.607 237.5,-471.607\" stroke=\"black\"/>\n",
       "</g>\n",
       "<!-- 140372691442992 -->\n",
       "<g class=\"node\" id=\"node3\"><title>140372691442992</title>\n",
       "<polygon fill=\"none\" points=\"0,-332.5 0,-378.5 468,-378.5 468,-332.5 0,-332.5\" stroke=\"black\"/>\n",
       "<text font-family=\"Times,serif\" font-size=\"14.00\" text-anchor=\"middle\" x=\"127\" y=\"-351.8\">max_pooling2d_1: MaxPooling2D</text>\n",
       "<polyline fill=\"none\" points=\"254,-332.5 254,-378.5 \" stroke=\"black\"/>\n",
       "<text font-family=\"Times,serif\" font-size=\"14.00\" text-anchor=\"middle\" x=\"288\" y=\"-363.3\">input:</text>\n",
       "<polyline fill=\"none\" points=\"254,-355.5 322,-355.5 \" stroke=\"black\"/>\n",
       "<text font-family=\"Times,serif\" font-size=\"14.00\" text-anchor=\"middle\" x=\"288\" y=\"-340.3\">output:</text>\n",
       "<polyline fill=\"none\" points=\"322,-332.5 322,-378.5 \" stroke=\"black\"/>\n",
       "<text font-family=\"Times,serif\" font-size=\"14.00\" text-anchor=\"middle\" x=\"395\" y=\"-363.3\">(None, 24, 24, 16)</text>\n",
       "<polyline fill=\"none\" points=\"322,-355.5 468,-355.5 \" stroke=\"black\"/>\n",
       "<text font-family=\"Times,serif\" font-size=\"14.00\" text-anchor=\"middle\" x=\"395\" y=\"-340.3\">(None, 12, 12, 16)</text>\n",
       "</g>\n",
       "<!-- 140372691072840&#45;&gt;140372691442992 -->\n",
       "<g class=\"edge\" id=\"edge2\"><title>140372691072840-&gt;140372691442992</title>\n",
       "<path d=\"M234,-415.366C234,-407.152 234,-397.658 234,-388.725\" fill=\"none\" stroke=\"black\"/>\n",
       "<polygon fill=\"black\" points=\"237.5,-388.607 234,-378.607 230.5,-388.607 237.5,-388.607\" stroke=\"black\"/>\n",
       "</g>\n",
       "<!-- 140372691443664 -->\n",
       "<g class=\"node\" id=\"node4\"><title>140372691443664</title>\n",
       "<polygon fill=\"none\" points=\"51.5,-249.5 51.5,-295.5 416.5,-295.5 416.5,-249.5 51.5,-249.5\" stroke=\"black\"/>\n",
       "<text font-family=\"Times,serif\" font-size=\"14.00\" text-anchor=\"middle\" x=\"127\" y=\"-268.8\">conv2d_2: Conv2D</text>\n",
       "<polyline fill=\"none\" points=\"202.5,-249.5 202.5,-295.5 \" stroke=\"black\"/>\n",
       "<text font-family=\"Times,serif\" font-size=\"14.00\" text-anchor=\"middle\" x=\"236.5\" y=\"-280.3\">input:</text>\n",
       "<polyline fill=\"none\" points=\"202.5,-272.5 270.5,-272.5 \" stroke=\"black\"/>\n",
       "<text font-family=\"Times,serif\" font-size=\"14.00\" text-anchor=\"middle\" x=\"236.5\" y=\"-257.3\">output:</text>\n",
       "<polyline fill=\"none\" points=\"270.5,-249.5 270.5,-295.5 \" stroke=\"black\"/>\n",
       "<text font-family=\"Times,serif\" font-size=\"14.00\" text-anchor=\"middle\" x=\"343.5\" y=\"-280.3\">(None, 12, 12, 16)</text>\n",
       "<polyline fill=\"none\" points=\"270.5,-272.5 416.5,-272.5 \" stroke=\"black\"/>\n",
       "<text font-family=\"Times,serif\" font-size=\"14.00\" text-anchor=\"middle\" x=\"343.5\" y=\"-257.3\">(None, 8, 8, 64)</text>\n",
       "</g>\n",
       "<!-- 140372691442992&#45;&gt;140372691443664 -->\n",
       "<g class=\"edge\" id=\"edge3\"><title>140372691442992-&gt;140372691443664</title>\n",
       "<path d=\"M234,-332.366C234,-324.152 234,-314.658 234,-305.725\" fill=\"none\" stroke=\"black\"/>\n",
       "<polygon fill=\"black\" points=\"237.5,-305.607 234,-295.607 230.5,-305.607 237.5,-305.607\" stroke=\"black\"/>\n",
       "</g>\n",
       "<!-- 140372691074184 -->\n",
       "<g class=\"node\" id=\"node5\"><title>140372691074184</title>\n",
       "<polygon fill=\"none\" points=\"9,-166.5 9,-212.5 459,-212.5 459,-166.5 9,-166.5\" stroke=\"black\"/>\n",
       "<text font-family=\"Times,serif\" font-size=\"14.00\" text-anchor=\"middle\" x=\"136\" y=\"-185.8\">max_pooling2d_2: MaxPooling2D</text>\n",
       "<polyline fill=\"none\" points=\"263,-166.5 263,-212.5 \" stroke=\"black\"/>\n",
       "<text font-family=\"Times,serif\" font-size=\"14.00\" text-anchor=\"middle\" x=\"297\" y=\"-197.3\">input:</text>\n",
       "<polyline fill=\"none\" points=\"263,-189.5 331,-189.5 \" stroke=\"black\"/>\n",
       "<text font-family=\"Times,serif\" font-size=\"14.00\" text-anchor=\"middle\" x=\"297\" y=\"-174.3\">output:</text>\n",
       "<polyline fill=\"none\" points=\"331,-166.5 331,-212.5 \" stroke=\"black\"/>\n",
       "<text font-family=\"Times,serif\" font-size=\"14.00\" text-anchor=\"middle\" x=\"395\" y=\"-197.3\">(None, 8, 8, 64)</text>\n",
       "<polyline fill=\"none\" points=\"331,-189.5 459,-189.5 \" stroke=\"black\"/>\n",
       "<text font-family=\"Times,serif\" font-size=\"14.00\" text-anchor=\"middle\" x=\"395\" y=\"-174.3\">(None, 4, 4, 64)</text>\n",
       "</g>\n",
       "<!-- 140372691443664&#45;&gt;140372691074184 -->\n",
       "<g class=\"edge\" id=\"edge4\"><title>140372691443664-&gt;140372691074184</title>\n",
       "<path d=\"M234,-249.366C234,-241.152 234,-231.658 234,-222.725\" fill=\"none\" stroke=\"black\"/>\n",
       "<polygon fill=\"black\" points=\"237.5,-222.607 234,-212.607 230.5,-222.607 237.5,-222.607\" stroke=\"black\"/>\n",
       "</g>\n",
       "<!-- 140372691126648 -->\n",
       "<g class=\"node\" id=\"node6\"><title>140372691126648</title>\n",
       "<polygon fill=\"none\" points=\"66,-83.5 66,-129.5 402,-129.5 402,-83.5 66,-83.5\" stroke=\"black\"/>\n",
       "<text font-family=\"Times,serif\" font-size=\"14.00\" text-anchor=\"middle\" x=\"136\" y=\"-102.8\">flatten_1: Flatten</text>\n",
       "<polyline fill=\"none\" points=\"206,-83.5 206,-129.5 \" stroke=\"black\"/>\n",
       "<text font-family=\"Times,serif\" font-size=\"14.00\" text-anchor=\"middle\" x=\"240\" y=\"-114.3\">input:</text>\n",
       "<polyline fill=\"none\" points=\"206,-106.5 274,-106.5 \" stroke=\"black\"/>\n",
       "<text font-family=\"Times,serif\" font-size=\"14.00\" text-anchor=\"middle\" x=\"240\" y=\"-91.3\">output:</text>\n",
       "<polyline fill=\"none\" points=\"274,-83.5 274,-129.5 \" stroke=\"black\"/>\n",
       "<text font-family=\"Times,serif\" font-size=\"14.00\" text-anchor=\"middle\" x=\"338\" y=\"-114.3\">(None, 4, 4, 64)</text>\n",
       "<polyline fill=\"none\" points=\"274,-106.5 402,-106.5 \" stroke=\"black\"/>\n",
       "<text font-family=\"Times,serif\" font-size=\"14.00\" text-anchor=\"middle\" x=\"338\" y=\"-91.3\">(None, 1024)</text>\n",
       "</g>\n",
       "<!-- 140372691074184&#45;&gt;140372691126648 -->\n",
       "<g class=\"edge\" id=\"edge5\"><title>140372691074184-&gt;140372691126648</title>\n",
       "<path d=\"M234,-166.366C234,-158.152 234,-148.658 234,-139.725\" fill=\"none\" stroke=\"black\"/>\n",
       "<polygon fill=\"black\" points=\"237.5,-139.607 234,-129.607 230.5,-139.607 237.5,-139.607\" stroke=\"black\"/>\n",
       "</g>\n",
       "<!-- 140372780905024 -->\n",
       "<g class=\"node\" id=\"node7\"><title>140372780905024</title>\n",
       "<polygon fill=\"none\" points=\"81,-0.5 81,-46.5 387,-46.5 387,-0.5 81,-0.5\" stroke=\"black\"/>\n",
       "<text font-family=\"Times,serif\" font-size=\"14.00\" text-anchor=\"middle\" x=\"145\" y=\"-19.8\">dense_1: Dense</text>\n",
       "<polyline fill=\"none\" points=\"209,-0.5 209,-46.5 \" stroke=\"black\"/>\n",
       "<text font-family=\"Times,serif\" font-size=\"14.00\" text-anchor=\"middle\" x=\"243\" y=\"-31.3\">input:</text>\n",
       "<polyline fill=\"none\" points=\"209,-23.5 277,-23.5 \" stroke=\"black\"/>\n",
       "<text font-family=\"Times,serif\" font-size=\"14.00\" text-anchor=\"middle\" x=\"243\" y=\"-8.3\">output:</text>\n",
       "<polyline fill=\"none\" points=\"277,-0.5 277,-46.5 \" stroke=\"black\"/>\n",
       "<text font-family=\"Times,serif\" font-size=\"14.00\" text-anchor=\"middle\" x=\"332\" y=\"-31.3\">(None, 1024)</text>\n",
       "<polyline fill=\"none\" points=\"277,-23.5 387,-23.5 \" stroke=\"black\"/>\n",
       "<text font-family=\"Times,serif\" font-size=\"14.00\" text-anchor=\"middle\" x=\"332\" y=\"-8.3\">(None, 10)</text>\n",
       "</g>\n",
       "<!-- 140372691126648&#45;&gt;140372780905024 -->\n",
       "<g class=\"edge\" id=\"edge6\"><title>140372691126648-&gt;140372780905024</title>\n",
       "<path d=\"M234,-83.3664C234,-75.1516 234,-65.6579 234,-56.7252\" fill=\"none\" stroke=\"black\"/>\n",
       "<polygon fill=\"black\" points=\"237.5,-56.6068 234,-46.6068 230.5,-56.6069 237.5,-56.6068\" stroke=\"black\"/>\n",
       "</g>\n",
       "</g>\n",
       "</svg>"
      ],
      "text/plain": [
       "<IPython.core.display.SVG object>"
      ]
     },
     "execution_count": 8,
     "metadata": {},
     "output_type": "execute_result"
    }
   ],
   "source": [
    "SVG(model_to_dot(model, show_shapes=True).create(prog='dot', format='svg'))"
   ]
  },
  {
   "cell_type": "code",
   "execution_count": 9,
   "metadata": {},
   "outputs": [
    {
     "name": "stdout",
     "output_type": "stream",
     "text": [
      "Train on 60000 samples, validate on 10000 samples\n",
      "Epoch 1/100\n",
      "60000/60000 [==============================] - 7s 119us/step - loss: 0.5401 - acc: 0.8098 - val_loss: 0.4110 - val_acc: 0.8522\n",
      "Epoch 2/100\n",
      "60000/60000 [==============================] - 6s 94us/step - loss: 0.3454 - acc: 0.8770 - val_loss: 0.3419 - val_acc: 0.8776\n",
      "Epoch 3/100\n",
      "60000/60000 [==============================] - 6s 93us/step - loss: 0.3016 - acc: 0.8925 - val_loss: 0.3393 - val_acc: 0.8741\n",
      "Epoch 4/100\n",
      "60000/60000 [==============================] - 6s 93us/step - loss: 0.2754 - acc: 0.9008 - val_loss: 0.2961 - val_acc: 0.8947\n",
      "Epoch 5/100\n",
      "60000/60000 [==============================] - 6s 94us/step - loss: 0.2543 - acc: 0.9090 - val_loss: 0.2833 - val_acc: 0.8976\n",
      "Epoch 6/100\n",
      "60000/60000 [==============================] - 6s 93us/step - loss: 0.2363 - acc: 0.9141 - val_loss: 0.2851 - val_acc: 0.8960\n",
      "Epoch 00006: early stopping\n"
     ]
    },
    {
     "data": {
      "text/plain": [
       "<keras.callbacks.History at 0x7fab7bb34f98>"
      ]
     },
     "execution_count": 9,
     "metadata": {},
     "output_type": "execute_result"
    }
   ],
   "source": [
    "early_stopping = EarlyStopping(patience=1, verbose=1)\n",
    "model.fit(x=x_train, y=y_train, batch_size=128, epochs=100, verbose=1,\n",
    "          validation_data=(x_test, y_test), callbacks=[early_stopping])"
   ]
  },
  {
   "cell_type": "markdown",
   "metadata": {},
   "source": [
    "### 2.2 CIFAR10のデータをCNNでクラス分類"
   ]
  },
  {
   "cell_type": "markdown",
   "metadata": {},
   "source": [
    "####  2.2.1 データセットの読み込み"
   ]
  },
  {
   "cell_type": "markdown",
   "metadata": {},
   "source": [
    "6万枚のカラー画像に10のカテゴリのどれかが付与されたCIFAR-10というデータセットを使用します。\n",
    "\n",
    "まず、データを読み込みます。"
   ]
  },
  {
   "cell_type": "code",
   "execution_count": 14,
   "metadata": {},
   "outputs": [],
   "source": [
    "(x_train, y_train), (x_test, y_test) = cifar10.load_data()"
   ]
  },
  {
   "cell_type": "code",
   "execution_count": 24,
   "metadata": {},
   "outputs": [
    {
     "data": {
      "text/plain": [
       "array([6], dtype=int32)"
      ]
     },
     "execution_count": 24,
     "metadata": {},
     "output_type": "execute_result"
    }
   ],
   "source": [
    "y_train[0].astype('int32').flatten()"
   ]
  },
  {
   "cell_type": "code",
   "execution_count": 25,
   "metadata": {},
   "outputs": [
    {
     "data": {
      "text/plain": [
       "array([[ 1.,  0.,  0.,  0.,  0.,  0.,  0.,  0.,  0.,  0.],\n",
       "       [ 0.,  1.,  0.,  0.,  0.,  0.,  0.,  0.,  0.,  0.],\n",
       "       [ 0.,  0.,  1.,  0.,  0.,  0.,  0.,  0.,  0.,  0.],\n",
       "       [ 0.,  0.,  0.,  1.,  0.,  0.,  0.,  0.,  0.,  0.],\n",
       "       [ 0.,  0.,  0.,  0.,  1.,  0.,  0.,  0.,  0.,  0.],\n",
       "       [ 0.,  0.,  0.,  0.,  0.,  1.,  0.,  0.,  0.,  0.],\n",
       "       [ 0.,  0.,  0.,  0.,  0.,  0.,  1.,  0.,  0.,  0.],\n",
       "       [ 0.,  0.,  0.,  0.,  0.,  0.,  0.,  1.,  0.,  0.],\n",
       "       [ 0.,  0.,  0.,  0.,  0.,  0.,  0.,  0.,  1.,  0.],\n",
       "       [ 0.,  0.,  0.,  0.,  0.,  0.,  0.,  0.,  0.,  1.]])"
      ]
     },
     "execution_count": 25,
     "metadata": {},
     "output_type": "execute_result"
    }
   ],
   "source": [
    "np.eye(10)"
   ]
  },
  {
   "cell_type": "code",
   "execution_count": 26,
   "metadata": {},
   "outputs": [
    {
     "data": {
      "text/plain": [
       "array([[ 0.,  0.,  0.,  0.,  0.,  0.,  1.,  0.,  0.,  0.]])"
      ]
     },
     "execution_count": 26,
     "metadata": {},
     "output_type": "execute_result"
    }
   ],
   "source": [
    "np.eye(10)[[6]]"
   ]
  },
  {
   "cell_type": "code",
   "execution_count": 27,
   "metadata": {},
   "outputs": [],
   "source": [
    "x_train = x_train.astype('float32') / 255\n",
    "y_train = np.eye(10)[y_train.astype('int32').flatten()]\n",
    "\n",
    "x_test = x_test.astype('float32') / 255\n",
    "y_test = np.eye(10)[y_test.astype('int32').flatten()]\n",
    "\n",
    "x_train, x_valid, y_train, y_valid = train_test_split(\n",
    "    x_train, y_train, test_size=10000)"
   ]
  },
  {
   "cell_type": "markdown",
   "metadata": {},
   "source": [
    "画像はRGBデータなのでFashion MNISTとは異なり、チャンネル数は3になります。"
   ]
  },
  {
   "cell_type": "code",
   "execution_count": 28,
   "metadata": {},
   "outputs": [
    {
     "data": {
      "text/plain": [
       "(40000, 32, 32, 3)"
      ]
     },
     "execution_count": 28,
     "metadata": {},
     "output_type": "execute_result"
    }
   ],
   "source": [
    "x_train.shape"
   ]
  },
  {
   "cell_type": "markdown",
   "metadata": {},
   "source": [
    "次に、CIFAR-10の画像の例を表示してみます。この画像ひとつひとつに10のカテゴリのうちひとつが付与されています。"
   ]
  },
  {
   "cell_type": "code",
   "execution_count": 29,
   "metadata": {},
   "outputs": [
    {
     "data": {
      "image/png": "[encoded data removed]",
      "text/plain": [
       "<matplotlib.figure.Figure at 0x7fab7a7cb0b8>"
      ]
     },
     "metadata": {},
     "output_type": "display_data"
    }
   ],
   "source": [
    "fig = plt.figure(figsize=(9, 15))\n",
    "fig.subplots_adjust(left=0, right=1, bottom=0, top=0.5, hspace=0.05,\n",
    "                    wspace=0.05)\n",
    "\n",
    "for i in range(9):\n",
    "    ax = fig.add_subplot(1, 9, i + 1, xticks=[], yticks=[])\n",
    "    ax.imshow(x_train[i])"
   ]
  },
  {
   "cell_type": "markdown",
   "metadata": {},
   "source": [
    "以下のネットワークを実装してみます。\n",
    "\n",
    "![](../figures/lenet.png)\n",
    "\n",
    "Y. LeCun et al., \"Gradient-based learning applied to document recognition\", Proceedings of the IEEE, 1998"
   ]
  },
  {
   "cell_type": "markdown",
   "metadata": {},
   "source": [
    "#### 2.2.2 実装"
   ]
  },
  {
   "cell_type": "code",
   "execution_count": 30,
   "metadata": {},
   "outputs": [],
   "source": [
    "model = Sequential()\n",
    "\n",
    "model.add(Conv2D(6, kernel_size=(5, 5), activation='relu',\n",
    "                 kernel_initializer='he_normal', input_shape=(32, 32, 3)))  # 32x32x3 -> 28x28x6\n",
    "model.add(MaxPooling2D(pool_size=(2, 2)))  # 28x28x6 -> 14x14x6\n",
    "model.add(Conv2D(16, kernel_size=(5, 5), activation='relu',\n",
    "                 kernel_initializer='he_normal'))  # 14x14x6 -> 10x10x16\n",
    "model.add(MaxPooling2D(pool_size=(2, 2)))  # 10x10x16 -> 5x5x16\n",
    "\n",
    "model.add(Flatten())  # 5x5x16 -> 400\n",
    "model.add(Dense(120, activation='relu',\n",
    "                kernel_initializer='he_normal'))  # 400 ->120\n",
    "model.add(Dense(84, activation='relu', kernel_initializer='he_normal'))  # 120 ->84\n",
    "model.add(Dense(10, activation='softmax'))  # 84 ->10\n",
    "\n",
    "model.compile(\n",
    "    loss=keras.losses.categorical_crossentropy,\n",
    "    optimizer='adam',\n",
    "    metrics=['accuracy']\n",
    ")"
   ]
  },
  {
   "cell_type": "markdown",
   "metadata": {},
   "source": [
    "作成したモデルを確認してみましょう。"
   ]
  },
  {
   "cell_type": "code",
   "execution_count": 31,
   "metadata": {},
   "outputs": [
    {
     "data": {
      "image/svg+xml": [
       "<svg height=\"629pt\" viewBox=\"0.00 0.00 262.00 629.00\" width=\"262pt\" xmlns=\"http://www.w3.org/2000/svg\" xmlns:xlink=\"http://www.w3.org/1999/xlink\">\n",
       "<g class=\"graph\" id=\"graph0\" transform=\"scale(1 1) rotate(0) translate(4 625)\">\n",
       "<title>G</title>\n",
       "<polygon fill=\"white\" points=\"-4,4 -4,-625 258,-625 258,4 -4,4\" stroke=\"none\"/>\n",
       "<!-- 140374469703720 -->\n",
       "<g class=\"node\" id=\"node1\"><title>140374469703720</title>\n",
       "<polygon fill=\"none\" points=\"17.5,-584.5 17.5,-620.5 236.5,-620.5 236.5,-584.5 17.5,-584.5\" stroke=\"black\"/>\n",
       "<text font-family=\"Times,serif\" font-size=\"14.00\" text-anchor=\"middle\" x=\"127\" y=\"-598.8\">conv2d_3_input: InputLayer</text>\n",
       "</g>\n",
       "<!-- 140374469703160 -->\n",
       "<g class=\"node\" id=\"node2\"><title>140374469703160</title>\n",
       "<polygon fill=\"none\" points=\"51.5,-511.5 51.5,-547.5 202.5,-547.5 202.5,-511.5 51.5,-511.5\" stroke=\"black\"/>\n",
       "<text font-family=\"Times,serif\" font-size=\"14.00\" text-anchor=\"middle\" x=\"127\" y=\"-525.8\">conv2d_3: Conv2D</text>\n",
       "</g>\n",
       "<!-- 140374469703720&#45;&gt;140374469703160 -->\n",
       "<g class=\"edge\" id=\"edge1\"><title>140374469703720-&gt;140374469703160</title>\n",
       "<path d=\"M127,-584.313C127,-576.289 127,-566.547 127,-557.569\" fill=\"none\" stroke=\"black\"/>\n",
       "<polygon fill=\"black\" points=\"130.5,-557.529 127,-547.529 123.5,-557.529 130.5,-557.529\" stroke=\"black\"/>\n",
       "</g>\n",
       "<!-- 140374469702152 -->\n",
       "<g class=\"node\" id=\"node3\"><title>140374469702152</title>\n",
       "<polygon fill=\"none\" points=\"0,-438.5 0,-474.5 254,-474.5 254,-438.5 0,-438.5\" stroke=\"black\"/>\n",
       "<text font-family=\"Times,serif\" font-size=\"14.00\" text-anchor=\"middle\" x=\"127\" y=\"-452.8\">max_pooling2d_3: MaxPooling2D</text>\n",
       "</g>\n",
       "<!-- 140374469703160&#45;&gt;140374469702152 -->\n",
       "<g class=\"edge\" id=\"edge2\"><title>140374469703160-&gt;140374469702152</title>\n",
       "<path d=\"M127,-511.313C127,-503.289 127,-493.547 127,-484.569\" fill=\"none\" stroke=\"black\"/>\n",
       "<polygon fill=\"black\" points=\"130.5,-484.529 127,-474.529 123.5,-484.529 130.5,-484.529\" stroke=\"black\"/>\n",
       "</g>\n",
       "<!-- 140374469703944 -->\n",
       "<g class=\"node\" id=\"node4\"><title>140374469703944</title>\n",
       "<polygon fill=\"none\" points=\"51.5,-365.5 51.5,-401.5 202.5,-401.5 202.5,-365.5 51.5,-365.5\" stroke=\"black\"/>\n",
       "<text font-family=\"Times,serif\" font-size=\"14.00\" text-anchor=\"middle\" x=\"127\" y=\"-379.8\">conv2d_4: Conv2D</text>\n",
       "</g>\n",
       "<!-- 140374469702152&#45;&gt;140374469703944 -->\n",
       "<g class=\"edge\" id=\"edge3\"><title>140374469702152-&gt;140374469703944</title>\n",
       "<path d=\"M127,-438.313C127,-430.289 127,-420.547 127,-411.569\" fill=\"none\" stroke=\"black\"/>\n",
       "<polygon fill=\"black\" points=\"130.5,-411.529 127,-401.529 123.5,-411.529 130.5,-411.529\" stroke=\"black\"/>\n",
       "</g>\n",
       "<!-- 140374493216048 -->\n",
       "<g class=\"node\" id=\"node5\"><title>140374493216048</title>\n",
       "<polygon fill=\"none\" points=\"0,-292.5 0,-328.5 254,-328.5 254,-292.5 0,-292.5\" stroke=\"black\"/>\n",
       "<text font-family=\"Times,serif\" font-size=\"14.00\" text-anchor=\"middle\" x=\"127\" y=\"-306.8\">max_pooling2d_4: MaxPooling2D</text>\n",
       "</g>\n",
       "<!-- 140374469703944&#45;&gt;140374493216048 -->\n",
       "<g class=\"edge\" id=\"edge4\"><title>140374469703944-&gt;140374493216048</title>\n",
       "<path d=\"M127,-365.313C127,-357.289 127,-347.547 127,-338.569\" fill=\"none\" stroke=\"black\"/>\n",
       "<polygon fill=\"black\" points=\"130.5,-338.529 127,-328.529 123.5,-338.529 130.5,-338.529\" stroke=\"black\"/>\n",
       "</g>\n",
       "<!-- 140374493216104 -->\n",
       "<g class=\"node\" id=\"node6\"><title>140374493216104</title>\n",
       "<polygon fill=\"none\" points=\"57,-219.5 57,-255.5 197,-255.5 197,-219.5 57,-219.5\" stroke=\"black\"/>\n",
       "<text font-family=\"Times,serif\" font-size=\"14.00\" text-anchor=\"middle\" x=\"127\" y=\"-233.8\">flatten_2: Flatten</text>\n",
       "</g>\n",
       "<!-- 140374493216048&#45;&gt;140374493216104 -->\n",
       "<g class=\"edge\" id=\"edge5\"><title>140374493216048-&gt;140374493216104</title>\n",
       "<path d=\"M127,-292.313C127,-284.289 127,-274.547 127,-265.569\" fill=\"none\" stroke=\"black\"/>\n",
       "<polygon fill=\"black\" points=\"130.5,-265.529 127,-255.529 123.5,-265.529 130.5,-265.529\" stroke=\"black\"/>\n",
       "</g>\n",
       "<!-- 140374493204376 -->\n",
       "<g class=\"node\" id=\"node7\"><title>140374493204376</title>\n",
       "<polygon fill=\"none\" points=\"63,-146.5 63,-182.5 191,-182.5 191,-146.5 63,-146.5\" stroke=\"black\"/>\n",
       "<text font-family=\"Times,serif\" font-size=\"14.00\" text-anchor=\"middle\" x=\"127\" y=\"-160.8\">dense_2: Dense</text>\n",
       "</g>\n",
       "<!-- 140374493216104&#45;&gt;140374493204376 -->\n",
       "<g class=\"edge\" id=\"edge6\"><title>140374493216104-&gt;140374493204376</title>\n",
       "<path d=\"M127,-219.313C127,-211.289 127,-201.547 127,-192.569\" fill=\"none\" stroke=\"black\"/>\n",
       "<polygon fill=\"black\" points=\"130.5,-192.529 127,-182.529 123.5,-192.529 130.5,-192.529\" stroke=\"black\"/>\n",
       "</g>\n",
       "<!-- 140374493223624 -->\n",
       "<g class=\"node\" id=\"node8\"><title>140374493223624</title>\n",
       "<polygon fill=\"none\" points=\"63,-73.5 63,-109.5 191,-109.5 191,-73.5 63,-73.5\" stroke=\"black\"/>\n",
       "<text font-family=\"Times,serif\" font-size=\"14.00\" text-anchor=\"middle\" x=\"127\" y=\"-87.8\">dense_3: Dense</text>\n",
       "</g>\n",
       "<!-- 140374493204376&#45;&gt;140374493223624 -->\n",
       "<g class=\"edge\" id=\"edge7\"><title>140374493204376-&gt;140374493223624</title>\n",
       "<path d=\"M127,-146.313C127,-138.289 127,-128.547 127,-119.569\" fill=\"none\" stroke=\"black\"/>\n",
       "<polygon fill=\"black\" points=\"130.5,-119.529 127,-109.529 123.5,-119.529 130.5,-119.529\" stroke=\"black\"/>\n",
       "</g>\n",
       "<!-- 140374493385784 -->\n",
       "<g class=\"node\" id=\"node9\"><title>140374493385784</title>\n",
       "<polygon fill=\"none\" points=\"63,-0.5 63,-36.5 191,-36.5 191,-0.5 63,-0.5\" stroke=\"black\"/>\n",
       "<text font-family=\"Times,serif\" font-size=\"14.00\" text-anchor=\"middle\" x=\"127\" y=\"-14.8\">dense_4: Dense</text>\n",
       "</g>\n",
       "<!-- 140374493223624&#45;&gt;140374493385784 -->\n",
       "<g class=\"edge\" id=\"edge8\"><title>140374493223624-&gt;140374493385784</title>\n",
       "<path d=\"M127,-73.3129C127,-65.2895 127,-55.5475 127,-46.5691\" fill=\"none\" stroke=\"black\"/>\n",
       "<polygon fill=\"black\" points=\"130.5,-46.5288 127,-36.5288 123.5,-46.5289 130.5,-46.5288\" stroke=\"black\"/>\n",
       "</g>\n",
       "</g>\n",
       "</svg>"
      ],
      "text/plain": [
       "<IPython.core.display.SVG object>"
      ]
     },
     "execution_count": 31,
     "metadata": {},
     "output_type": "execute_result"
    }
   ],
   "source": [
    "SVG(model_to_dot(model).create(prog='dot', format='svg'))"
   ]
  },
  {
   "cell_type": "code",
   "execution_count": 32,
   "metadata": {},
   "outputs": [
    {
     "name": "stdout",
     "output_type": "stream",
     "text": [
      "Train on 40000 samples, validate on 10000 samples\n",
      "Epoch 1/100\n",
      "40000/40000 [==============================] - 4s 105us/step - loss: 1.7499 - acc: 0.3640 - val_loss: 1.5279 - val_acc: 0.4496\n",
      "Epoch 2/100\n",
      "40000/40000 [==============================] - 4s 98us/step - loss: 1.4533 - acc: 0.4755 - val_loss: 1.3763 - val_acc: 0.5059\n",
      "Epoch 3/100\n",
      "40000/40000 [==============================] - 4s 98us/step - loss: 1.3437 - acc: 0.5174 - val_loss: 1.2994 - val_acc: 0.5353\n",
      "Epoch 4/100\n",
      "40000/40000 [==============================] - 4s 98us/step - loss: 1.2678 - acc: 0.5466 - val_loss: 1.2846 - val_acc: 0.5424\n",
      "Epoch 5/100\n",
      "40000/40000 [==============================] - 4s 98us/step - loss: 1.2064 - acc: 0.5723 - val_loss: 1.2440 - val_acc: 0.5562\n",
      "Epoch 6/100\n",
      "40000/40000 [==============================] - 4s 97us/step - loss: 1.1552 - acc: 0.5901 - val_loss: 1.2117 - val_acc: 0.5695\n",
      "Epoch 7/100\n",
      "40000/40000 [==============================] - 4s 95us/step - loss: 1.1132 - acc: 0.6080 - val_loss: 1.1977 - val_acc: 0.5784\n",
      "Epoch 8/100\n",
      "40000/40000 [==============================] - 4s 97us/step - loss: 1.0777 - acc: 0.6180 - val_loss: 1.1833 - val_acc: 0.5833\n",
      "Epoch 9/100\n",
      "40000/40000 [==============================] - 4s 97us/step - loss: 1.0435 - acc: 0.6307 - val_loss: 1.1643 - val_acc: 0.5855\n",
      "Epoch 10/100\n",
      "40000/40000 [==============================] - 4s 91us/step - loss: 1.0199 - acc: 0.6389 - val_loss: 1.1811 - val_acc: 0.5858\n",
      "Epoch 00010: early stopping\n"
     ]
    },
    {
     "data": {
      "text/plain": [
       "<keras.callbacks.History at 0x7fab7a870ba8>"
      ]
     },
     "execution_count": 32,
     "metadata": {},
     "output_type": "execute_result"
    }
   ],
   "source": [
    "early_stopping = EarlyStopping(patience=1, verbose=1)\n",
    "model.fit(x=x_train, y=y_train, batch_size=128, epochs=100, verbose=1,\n",
    "          validation_data=(x_valid, y_valid), callbacks=[early_stopping])"
   ]
  },
  {
   "cell_type": "code",
   "execution_count": null,
   "metadata": {},
   "outputs": [],
   "source": []
  }
 ],
 "metadata": {
  "kernelspec": {
   "display_name": "Python 3",
   "language": "python",
   "name": "python3"
  },
  "language_info": {
   "codemirror_mode": {
    "name": "ipython",
    "version": 3
   },
   "file_extension": ".py",
   "mimetype": "text/x-python",
   "name": "python",
   "nbconvert_exporter": "python",
   "pygments_lexer": "ipython3",
   "version": "3.5.2"
  }
 },
 "nbformat": 4,
 "nbformat_minor": 2
}
