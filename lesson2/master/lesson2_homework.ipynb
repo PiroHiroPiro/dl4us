{
 "cells": [
  {
   "cell_type": "markdown",
   "metadata": {},
   "source": [
    "# Lesson2 畳み込みニューラルネットワーク (CNN)"
   ]
  },
  {
   "cell_type": "markdown",
   "metadata": {},
   "source": [
    "## Homework"
   ]
  },
  {
   "cell_type": "markdown",
   "metadata": {},
   "source": [
    "今Lessonで学んだことに工夫を加えて, CNNでより高精度なCIFAR10の分類器を実装してみましょう.\n",
    "精度上位者はリーダーボードに載ります."
   ]
  },
  {
   "cell_type": "markdown",
   "metadata": {},
   "source": [
    "### 目標値"
   ]
  },
  {
   "cell_type": "markdown",
   "metadata": {},
   "source": [
    "Accuracy 90%"
   ]
  },
  {
   "cell_type": "markdown",
   "metadata": {},
   "source": [
    "### ルール"
   ]
  },
  {
   "cell_type": "markdown",
   "metadata": {},
   "source": [
    "- ネットワークの形などは特に制限を設けません.\n",
    "- アンサンブル学習などを組み込んでもOKです.\n",
    "- **下のセルで指定されている`x_train`, `y_train`以外の学習データは使わないでください.**"
   ]
  },
  {
   "cell_type": "markdown",
   "metadata": {},
   "source": [
    "### 評価について"
   ]
  },
  {
   "cell_type": "markdown",
   "metadata": {},
   "source": [
    "- テストデータ(`x_test`)に対する予測ラベルをcsvファイルで提出してください.\n",
    "- ファイル名は`submission.csv`としてください.\n",
    "- 予測ラベルの`y_test`に対する精度 (Accuracy) で評価します.\n",
    "- 毎日24時にテストデータの一部に対する精度でLeader Boardを更新します.\n",
    "- 最終的な評価はテストデータ全体に対する精度でおこないます."
   ]
  },
  {
   "cell_type": "markdown",
   "metadata": {},
   "source": [
    "### サンプルコード"
   ]
  },
  {
   "cell_type": "markdown",
   "metadata": {},
   "source": [
    "**次のセルで指定されている`x_train`, `y_train`のみを使って学習させてください.**"
   ]
  },
  {
   "cell_type": "code",
   "execution_count": null,
   "metadata": {},
   "outputs": [],
   "source": [
    "import numpy as np\n",
    "import pandas as pd\n",
    "\n",
    "def load_cifar10():\n",
    "    \n",
    "    # 学習データ\n",
    "    x_train = np.load('/root/userspace/public/lesson2/data/x_train.npy')\n",
    "    y_train = np.load('/root/userspace/public/lesson2/data/y_train.npy')\n",
    "\n",
    "    # テストデータ\n",
    "    x_test = np.load('/root/userspace/public/lesson2/data/x_test.npy')\n",
    "    \n",
    "    x_train = x_train / 255.\n",
    "    x_test = x_test / 255.\n",
    "    \n",
    "    y_train = np.eye(10)[y_train]\n",
    "    \n",
    "    return (x_train, x_test, y_train)\n",
    "\n",
    "x_train, x_test, y_train = load_cifar10()"
   ]
  },
  {
   "cell_type": "code",
   "execution_count": null,
   "metadata": {},
   "outputs": [],
   "source": [
    "from keras.models import Sequential\n",
    "from keras.layers import Dense, Conv2D, MaxPooling2D, Flatten\n",
    "\n",
    "model = Sequential()\n",
    "\n",
    "model.add(Conv2D(8, kernel_size=(5, 5), activation='relu', input_shape=(32, 32, 3)))\n",
    "model.add(MaxPooling2D(pool_size=(2, 2)))\n",
    "model.add(Conv2D(8, kernel_size=(5, 5), activation='relu'))\n",
    "model.add(MaxPooling2D(pool_size=(2, 2)))\n",
    "model.add(Flatten())\n",
    "model.add(Dense(10, activation='softmax'))\n",
    "\n",
    "model.compile(loss='categorical_crossentropy', optimizer='adam')\n",
    "\n",
    "model.fit(x=x_train, y=y_train, batch_size=32, epochs=1, validation_split=0.1)\n",
    "\n",
    "y_pred = model.predict(x_test)\n",
    "y_pred = np.argmax(y_pred, 1)\n",
    "\n",
    "submission = pd.Series(y_pred, name='label')\n",
    "submission.to_csv('/root/userspace/submission.csv', header=True, index_label='id')"
   ]
  }
 ],
 "metadata": {
  "kernelspec": {
   "display_name": "Python 3",
   "language": "python",
   "name": "python3"
  },
  "language_info": {
   "codemirror_mode": {
    "name": "ipython",
    "version": 3
   },
   "file_extension": ".py",
   "mimetype": "text/x-python",
   "name": "python",
   "nbconvert_exporter": "python",
   "pygments_lexer": "ipython3",
   "version": "3.6.6"
  }
 },
 "nbformat": 4,
 "nbformat_minor": 2
}
