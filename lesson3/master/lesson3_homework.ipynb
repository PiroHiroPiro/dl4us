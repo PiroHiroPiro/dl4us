{
 "cells": [
  {
   "cell_type": "markdown",
   "metadata": {},
   "source": [
    "# Lesson3 系列データで分類・予測させてみよう（RNN, LSTM）"
   ]
  },
  {
   "cell_type": "markdown",
   "metadata": {},
   "source": [
    "## Homework\n",
    "\n",
    "RNNを用いてさらに高精度なECG5000の分類器を作ってみましょう。\n",
    "\n",
    "ネットワークの形などは特に制限を設けませんし、今回のLessonで扱った内容以外の工夫も組み込んでもらって構いません。\n",
    "\n",
    "上位者はリーダーボードに掲載させていただきます。（評価はaccuracyによって行います。）"
   ]
  },
  {
   "cell_type": "markdown",
   "metadata": {},
   "source": [
    "### 目標値\n",
    "Accuracy 95%"
   ]
  },
  {
   "cell_type": "markdown",
   "metadata": {},
   "source": [
    "### ルール\n",
    "- 訓練データは`x_train`, `y_train`, テストデータは`x_test`で与えられます.\n",
    "- 予測ラベルは **one_hot表現ではなく0~4のクラスラベル** で表してください.\n",
    "- 下のセルで指定されているx_train, y_train以外の学習データは使わないでください."
   ]
  },
  {
   "cell_type": "markdown",
   "metadata": {},
   "source": [
    "### 評価について\n",
    "\n",
    "- テストデータ(x_test)に対する予測ラベルをcsvファイルで提出してください.\n",
    "- ファイル名はsubmission.csvとしてください.\n",
    "- 予測ラベルのy_testに対する精度 (F値)で評価します.\n",
    "- 毎日24時にテストデータの一部に対する精度でLeader Boardを更新します.\n",
    "- 最終的な評価はテストデータ全体に対する精度でおこないます."
   ]
  },
  {
   "cell_type": "markdown",
   "metadata": {},
   "source": [
    "### サンプルコード\n",
    "**次のセルで指定されているx_train, y_trainのみを使って学習させてください.**"
   ]
  },
  {
   "cell_type": "code",
   "execution_count": null,
   "metadata": {},
   "outputs": [],
   "source": [
    "import numpy as np\n",
    "from sklearn.model_selection import train_test_split\n",
    "from keras.utils import to_categorical\n",
    "\n",
    "def load_dataset():\n",
    "    # 学習データ\n",
    "    x_train = np.load('/root/userspace/public/lesson3/data/x_train.npy')\n",
    "    y_train = np.load('/root/userspace/public/lesson3/data/y_train.npy')\n",
    "    y_train = to_categorical(y_train[:, np.newaxis], num_classes = 5)\n",
    "    \n",
    "    # テストデータ\n",
    "    x_test = np.load('/root/userspace/public/lesson3/data/x_test.npy')\n",
    "\n",
    "    return (x_train, x_test, y_train)\n",
    "\n",
    "x_train, x_test, y_train = load_dataset()"
   ]
  },
  {
   "cell_type": "code",
   "execution_count": null,
   "metadata": {},
   "outputs": [],
   "source": [
    "import tensorflow.python.keras\n",
    "from keras.models import Sequential\n",
    "from keras.layers import Dense, Activation, SimpleRNN\n",
    "import pandas as pd\n",
    "\n",
    "hid_dim = 10\n",
    "\n",
    "model = Sequential()\n",
    "\n",
    "model.add(SimpleRNN(hid_dim, input_shape=x_train.shape[1:])) # input_shape=(系列長T, x_tの次元), output_shape=(系列長T, units(=hid_dim))\n",
    "model.add(Dense(y_train.shape[1], activation='softmax'))\n",
    "\n",
    "model.compile(loss='categorical_crossentropy', optimizer='adam')\n",
    "model.fit(x_train, y_train, epochs=50, batch_size=100, verbose=2, validation_split=0.2)\n",
    "\n",
    "y_pred = np.argmax(model.predict(x_test), 1)\n",
    "\n",
    "submission = pd.Series(y_pred, name='label')\n",
    "submission.to_csv('/root/userspace/submission.csv', header=True, index_label='id')"
   ]
  }
 ],
 "metadata": {
  "kernelspec": {
   "display_name": "Python 3",
   "language": "python",
   "name": "python3"
  },
  "language_info": {
   "codemirror_mode": {
    "name": "ipython",
    "version": 3
   },
   "file_extension": ".py",
   "mimetype": "text/x-python",
   "name": "python",
   "nbconvert_exporter": "python",
   "pygments_lexer": "ipython3",
   "version": "3.6.5"
  }
 },
 "nbformat": 4,
 "nbformat_minor": 2
}
