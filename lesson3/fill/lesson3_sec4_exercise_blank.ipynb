{
 "cells": [
  {
   "cell_type": "markdown",
   "metadata": {},
   "source": [
    "# Lesson3 系列データで分類・予測させてみよう（RNN, LSTM）"
   ]
  },
  {
   "cell_type": "markdown",
   "metadata": {},
   "source": [
    "## 目次\n",
    "\n",
    "- 3.4の解答\n",
    "- Section4 実装②\n",
    "    - 4.0 データの用意\n",
    "    - 4.1 モデル構築\n",
    "    - 4.2 モデルの学習\n",
    "    - 4.3 モデルによる予測\n",
    "    - 4.4 モデルの可視化"
   ]
  },
  {
   "cell_type": "markdown",
   "metadata": {},
   "source": [
    "## Section3 Checkクイズの解答\n",
    "\n",
    "問題1: 2, 問題2: 3, 問題3: 1, 問題4: 4"
   ]
  },
  {
   "cell_type": "markdown",
   "metadata": {},
   "source": [
    "## Section4 実装②"
   ]
  },
  {
   "cell_type": "markdown",
   "metadata": {},
   "source": [
    "ここでは、1949年1月から1960年12月までの月次航空会社乗客数のデータをLSTMで学習し、予測を行ってみましょう。\n",
    "\n",
    "データは次のリンクのページのものを用います。\n",
    "\n",
    "https://datamarket.com/data/set/22u3/international-airline-passengers-monthly-totals-in-thousands-jan-49-dec-60#!ds=22u3&display=line\n",
    "\n",
    "このデータセットには、1列目に年月、2列目にその月の航空会社乗客数が千人単位で記録されています。"
   ]
  },
  {
   "cell_type": "code",
   "execution_count": 1,
   "metadata": {},
   "outputs": [
    {
     "data": {
      "text/plain": [
       "<matplotlib.axes._subplots.AxesSubplot at 0x7f2b8facd978>"
      ]
     },
     "execution_count": 1,
     "metadata": {},
     "output_type": "execute_result"
    },
    {
     "data": {
      "image/png": "[encoded data removed]",
      "text/plain": [
       "<matplotlib.figure.Figure at 0x7f2b8fa9c828>"
      ]
     },
     "metadata": {},
     "output_type": "display_data"
    }
   ],
   "source": [
    "# データセット表示用コード\n",
    "%matplotlib inline\n",
    "\n",
    "import pandas as pd\n",
    "\n",
    "dataframe = pd.read_csv('/root/userspace/public/lesson3/data/international-airline-passengers.csv', index_col=0, engine='python', skipfooter=3)\n",
    "dataframe.columns = ['passengers (k)']\n",
    "dataframe.index = pd.to_datetime(dataframe.index)\n",
    "dataframe.plot()"
   ]
  },
  {
   "cell_type": "markdown",
   "metadata": {},
   "source": [
    "### 4.0 データの用意\n",
    "\n",
    "まずはデータを読み込みましょう。今回は2列目の乗客数のみ読み込みます。\n",
    "\n",
    "なお、データがcsv形式なのでpandas.read_csvを用いてロードを行います。"
   ]
  },
  {
   "cell_type": "code",
   "execution_count": 1,
   "metadata": {},
   "outputs": [],
   "source": [
    "%matplotlib inline\n",
    "\n",
    "import pandas as pd\n",
    "\n",
    "# データの読み込み（データセット中のYのみロード）\n",
    "dataframe = pd.read_csv('/root/userspace/public/lesson3/data/international-airline-passengers.csv', usecols=[1], engine='python', skipfooter=3)\n",
    "dataset = dataframe.values.astype('float32')"
   ]
  },
  {
   "cell_type": "markdown",
   "metadata": {},
   "source": [
    "データが人数という単位を持っているので、この単位への依存性をなくすため（また予測性能向上のため）スケーリングを行います。\n",
    "\n",
    "なお、スケーリングには、ライブラリscikit-learnの`MinMaxScaler`クラスを使用します。\n",
    "\n",
    "`MinMaxScaler`は初期化時に`feature_range`引数として、どの範囲にスケーリングするかを指定すると、\n",
    "\n",
    "`fit_trasform`メソッドでデータセットをスケーリングし、またスケーリングに用いたパラメータを記憶します。\n",
    "\n",
    "そのため逆変換も可能で、`inverse_transform`メソッドを用いれば、データのスケーリングを元に戻すことができます。（後ほど結果の処理で使用）"
   ]
  },
  {
   "cell_type": "code",
   "execution_count": 2,
   "metadata": {},
   "outputs": [
    {
     "data": {
      "text/plain": [
       "array([ 112.], dtype=float32)"
      ]
     },
     "execution_count": 2,
     "metadata": {},
     "output_type": "execute_result"
    }
   ],
   "source": [
    "dataset[0]"
   ]
  },
  {
   "cell_type": "code",
   "execution_count": 3,
   "metadata": {},
   "outputs": [],
   "source": [
    "from sklearn.preprocessing import MinMaxScaler\n",
    "\n",
    "# [0,1]に正規化\n",
    "scaler = MinMaxScaler(feature_range=(0, 1))\n",
    "dataset = scaler.fit_transform(dataset)"
   ]
  },
  {
   "cell_type": "markdown",
   "metadata": {},
   "source": [
    "続いて、データセットを訓練用とテスト用に分割します。時系列の予測が目的のため、ある時点を境に訓練用、テスト用と分割します。"
   ]
  },
  {
   "cell_type": "code",
   "execution_count": 4,
   "metadata": {},
   "outputs": [
    {
     "data": {
      "text/plain": [
       "array([ 0.01544401], dtype=float32)"
      ]
     },
     "execution_count": 4,
     "metadata": {},
     "output_type": "execute_result"
    }
   ],
   "source": [
    "dataset[0]"
   ]
  },
  {
   "cell_type": "code",
   "execution_count": 4,
   "metadata": {},
   "outputs": [],
   "source": [
    "# 訓練データとテストデータを分割（時系列の予測が目的のため、ある時点から先をテストデータとする）\n",
    "train_size = int(len(dataset) * 0.67)\n",
    "test_size = len(dataset) - train_size\n",
    "train, test = dataset[0:train_size,:], dataset[train_size:len(dataset),:]"
   ]
  },
  {
   "cell_type": "markdown",
   "metadata": {},
   "source": [
    "時系列の予測の場合、ある時点のデータのみ参照して同じ時点の予測を行うことは困難です。\n",
    "\n",
    "そこで、数回前のデータまで参照できるようにしましょう。RNNでは、この数回前までのデータを1系列とみなして入力に使用します。"
   ]
  },
  {
   "cell_type": "code",
   "execution_count": 5,
   "metadata": {},
   "outputs": [],
   "source": [
    "import numpy as np\n",
    "\n",
    "# X=[data[t-look_back],...,data[t-1]], Y=data[t]となるデータセットに変換\n",
    "def create_dataset(dataset, look_back=1):\n",
    "    dataX, dataY = [], []\n",
    "    for i in range(len(dataset)-look_back-1):\n",
    "        a = dataset[i:(i+look_back), 0]\n",
    "        dataX.append(a)\n",
    "        dataY.append(dataset[i + look_back, 0])\n",
    "    return np.array(dataX), np.array(dataY)\n",
    "\n",
    "look_back = 3\n",
    "trainX, trainY = create_dataset(train, look_back)\n",
    "testX, testY = create_dataset(test, look_back)\n",
    "\n",
    "# [samples, time steps, features]へ変形\n",
    "trainX = np.reshape(trainX, (trainX.shape[0], trainX.shape[1], 1))\n",
    "testX = np.reshape(testX, (testX.shape[0], testX.shape[1], 1))"
   ]
  },
  {
   "cell_type": "markdown",
   "metadata": {},
   "source": [
    "### 4.1 モデル構築\n",
    "\n",
    "ここでは、先程紹介したLSTM（4ユニット）を使用してモデルを構築します。\n",
    "\n",
    "また、最終的に必要な出力はスカラー値なので、最後にDenseレイヤーを使用し、損失関数はMSEを用います。"
   ]
  },
  {
   "cell_type": "code",
   "execution_count": 6,
   "metadata": {},
   "outputs": [
    {
     "name": "stderr",
     "output_type": "stream",
     "text": [
      "Using TensorFlow backend.\n"
     ]
    }
   ],
   "source": [
    "from keras.models import Sequential\n",
    "from keras.layers import Dense, Activation, LSTM\n",
    "\n",
    "# LSTMにDenseを接続し、数値を予測（MSEで評価）\n",
    "model = Sequential()\n",
    "\n",
    "model.add(LSTM(4, input_shape=(look_back, 1))) # input_shape=(系列長T, x_tの次元), output_shape=(系列長T, units)\n",
    "model.add(Dense(1))\n",
    "\n",
    "model.compile(loss='mean_squared_error', optimizer='adam')"
   ]
  },
  {
   "cell_type": "markdown",
   "metadata": {},
   "source": [
    "### 4.2 モデルの学習"
   ]
  },
  {
   "cell_type": "code",
   "execution_count": 7,
   "metadata": {
    "scrolled": true
   },
   "outputs": [
    {
     "name": "stdout",
     "output_type": "stream",
     "text": [
      "Epoch 1/100\n",
      " - 2s - loss: 0.0362\n",
      "Epoch 2/100\n",
      " - 1s - loss: 0.0140\n",
      "Epoch 3/100\n",
      " - 1s - loss: 0.0111\n",
      "Epoch 4/100\n",
      " - 1s - loss: 0.0099\n",
      "Epoch 5/100\n",
      " - 1s - loss: 0.0087\n",
      "Epoch 6/100\n",
      " - 1s - loss: 0.0076\n",
      "Epoch 7/100\n",
      " - 1s - loss: 0.0068\n",
      "Epoch 8/100\n",
      " - 1s - loss: 0.0061\n",
      "Epoch 9/100\n",
      " - 1s - loss: 0.0053\n",
      "Epoch 10/100\n",
      " - 1s - loss: 0.0048\n",
      "Epoch 11/100\n",
      " - 1s - loss: 0.0046\n",
      "Epoch 12/100\n",
      " - 1s - loss: 0.0044\n",
      "Epoch 13/100\n",
      " - 1s - loss: 0.0042\n",
      "Epoch 14/100\n",
      " - 1s - loss: 0.0043\n",
      "Epoch 15/100\n",
      " - 1s - loss: 0.0041\n",
      "Epoch 16/100\n",
      " - 1s - loss: 0.0040\n",
      "Epoch 17/100\n",
      " - 1s - loss: 0.0040\n",
      "Epoch 18/100\n",
      " - 1s - loss: 0.0039\n",
      "Epoch 19/100\n",
      " - 1s - loss: 0.0039\n",
      "Epoch 20/100\n",
      " - 1s - loss: 0.0040\n",
      "Epoch 21/100\n",
      " - 1s - loss: 0.0039\n",
      "Epoch 22/100\n",
      " - 1s - loss: 0.0040\n",
      "Epoch 23/100\n",
      " - 1s - loss: 0.0038\n",
      "Epoch 24/100\n",
      " - 1s - loss: 0.0037\n",
      "Epoch 25/100\n",
      " - 1s - loss: 0.0040\n",
      "Epoch 26/100\n",
      " - 1s - loss: 0.0038\n",
      "Epoch 27/100\n",
      " - 1s - loss: 0.0038\n",
      "Epoch 28/100\n",
      " - 1s - loss: 0.0037\n",
      "Epoch 29/100\n",
      " - 1s - loss: 0.0038\n",
      "Epoch 30/100\n",
      " - 1s - loss: 0.0039\n",
      "Epoch 31/100\n",
      " - 1s - loss: 0.0039\n",
      "Epoch 32/100\n",
      " - 1s - loss: 0.0038\n",
      "Epoch 33/100\n",
      " - 1s - loss: 0.0039\n",
      "Epoch 34/100\n",
      " - 1s - loss: 0.0039\n",
      "Epoch 35/100\n",
      " - 1s - loss: 0.0038\n",
      "Epoch 36/100\n",
      " - 1s - loss: 0.0037\n",
      "Epoch 37/100\n",
      " - 1s - loss: 0.0037\n",
      "Epoch 38/100\n",
      " - 1s - loss: 0.0037\n",
      "Epoch 39/100\n",
      " - 1s - loss: 0.0037\n",
      "Epoch 40/100\n",
      " - 1s - loss: 0.0038\n",
      "Epoch 41/100\n",
      " - 1s - loss: 0.0037\n",
      "Epoch 42/100\n",
      " - 1s - loss: 0.0037\n",
      "Epoch 43/100\n",
      " - 1s - loss: 0.0038\n",
      "Epoch 44/100\n",
      " - 1s - loss: 0.0036\n",
      "Epoch 45/100\n",
      " - 1s - loss: 0.0037\n",
      "Epoch 46/100\n",
      " - 1s - loss: 0.0036\n",
      "Epoch 47/100\n",
      " - 1s - loss: 0.0036\n",
      "Epoch 48/100\n",
      " - 1s - loss: 0.0037\n",
      "Epoch 49/100\n",
      " - 1s - loss: 0.0036\n",
      "Epoch 50/100\n",
      " - 1s - loss: 0.0035\n",
      "Epoch 51/100\n",
      " - 1s - loss: 0.0038\n",
      "Epoch 52/100\n",
      " - 1s - loss: 0.0036\n",
      "Epoch 53/100\n",
      " - 1s - loss: 0.0036\n",
      "Epoch 54/100\n",
      " - 1s - loss: 0.0036\n",
      "Epoch 55/100\n",
      " - 1s - loss: 0.0036\n",
      "Epoch 56/100\n",
      " - 1s - loss: 0.0035\n",
      "Epoch 57/100\n",
      " - 1s - loss: 0.0036\n",
      "Epoch 58/100\n",
      " - 1s - loss: 0.0035\n",
      "Epoch 59/100\n",
      " - 1s - loss: 0.0034\n",
      "Epoch 60/100\n",
      " - 1s - loss: 0.0037\n",
      "Epoch 61/100\n",
      " - 1s - loss: 0.0035\n",
      "Epoch 62/100\n",
      " - 1s - loss: 0.0035\n",
      "Epoch 63/100\n",
      " - 1s - loss: 0.0035\n",
      "Epoch 64/100\n",
      " - 1s - loss: 0.0035\n",
      "Epoch 65/100\n",
      " - 1s - loss: 0.0035\n",
      "Epoch 66/100\n",
      " - 1s - loss: 0.0035\n",
      "Epoch 67/100\n",
      " - 1s - loss: 0.0034\n",
      "Epoch 68/100\n",
      " - 1s - loss: 0.0035\n",
      "Epoch 69/100\n",
      " - 1s - loss: 0.0035\n",
      "Epoch 70/100\n",
      " - 1s - loss: 0.0034\n",
      "Epoch 71/100\n",
      " - 1s - loss: 0.0035\n",
      "Epoch 72/100\n",
      " - 1s - loss: 0.0034\n",
      "Epoch 73/100\n",
      " - 1s - loss: 0.0034\n",
      "Epoch 74/100\n",
      " - 1s - loss: 0.0034\n",
      "Epoch 75/100\n",
      " - 1s - loss: 0.0033\n",
      "Epoch 76/100\n",
      " - 1s - loss: 0.0034\n",
      "Epoch 77/100\n",
      " - 1s - loss: 0.0033\n",
      "Epoch 78/100\n",
      " - 1s - loss: 0.0033\n",
      "Epoch 79/100\n",
      " - 1s - loss: 0.0032\n",
      "Epoch 80/100\n",
      " - 1s - loss: 0.0032\n",
      "Epoch 81/100\n",
      " - 1s - loss: 0.0032\n",
      "Epoch 82/100\n",
      " - 1s - loss: 0.0032\n",
      "Epoch 83/100\n",
      " - 1s - loss: 0.0032\n",
      "Epoch 84/100\n",
      " - 1s - loss: 0.0033\n",
      "Epoch 85/100\n",
      " - 1s - loss: 0.0031\n",
      "Epoch 86/100\n",
      " - 1s - loss: 0.0031\n",
      "Epoch 87/100\n",
      " - 1s - loss: 0.0030\n",
      "Epoch 88/100\n",
      " - 1s - loss: 0.0030\n",
      "Epoch 89/100\n",
      " - 1s - loss: 0.0030\n",
      "Epoch 90/100\n",
      " - 1s - loss: 0.0029\n",
      "Epoch 91/100\n",
      " - 1s - loss: 0.0029\n",
      "Epoch 92/100\n",
      " - 1s - loss: 0.0027\n",
      "Epoch 93/100\n",
      " - 1s - loss: 0.0028\n",
      "Epoch 94/100\n",
      " - 1s - loss: 0.0027\n",
      "Epoch 95/100\n",
      " - 1s - loss: 0.0028\n",
      "Epoch 96/100\n",
      " - 1s - loss: 0.0026\n",
      "Epoch 97/100\n",
      " - 1s - loss: 0.0025\n",
      "Epoch 98/100\n",
      " - 1s - loss: 0.0024\n",
      "Epoch 99/100\n",
      " - 1s - loss: 0.0025\n",
      "Epoch 100/100\n",
      " - 1s - loss: 0.0025\n"
     ]
    },
    {
     "data": {
      "text/plain": [
       "<keras.callbacks.History at 0x7f2b461851d0>"
      ]
     },
     "execution_count": 7,
     "metadata": {},
     "output_type": "execute_result"
    }
   ],
   "source": [
    "model.fit(trainX, trainY, epochs=100, batch_size=1, verbose=2)"
   ]
  },
  {
   "cell_type": "markdown",
   "metadata": {},
   "source": [
    "### 4.3 モデルによる予測\n",
    "\n",
    "予測の精度をRMSEで評価してみましょう。ここではイメージが湧くように、正規化を解いて人数の単位で出力しています。"
   ]
  },
  {
   "cell_type": "code",
   "execution_count": 8,
   "metadata": {},
   "outputs": [
    {
     "name": "stdout",
     "output_type": "stream",
     "text": [
      "Train RMSE: 24.51\n",
      "Test RMSE: 70.11\n"
     ]
    }
   ],
   "source": [
    "import math\n",
    "from sklearn.metrics import mean_squared_error\n",
    "\n",
    "# テストデータに対する予測（評価のため訓練データも）\n",
    "trainPredict = model.predict(trainX)\n",
    "testPredict = model.predict(testX)\n",
    "\n",
    "# 正規化を元に戻す\n",
    "trainPredict = scaler.inverse_transform(trainPredict)\n",
    "trainY = scaler.inverse_transform([trainY])\n",
    "testPredict = scaler.inverse_transform(testPredict)\n",
    "testY = scaler.inverse_transform([testY])\n",
    "\n",
    "# 平均二乗誤差のルートで評価\n",
    "trainScore = math.sqrt(mean_squared_error(trainY[0], trainPredict[:,0]))\n",
    "print('Train RMSE: %.2f' % (trainScore))\n",
    "testScore = math.sqrt(mean_squared_error(testY[0], testPredict[:,0]))\n",
    "print('Test RMSE: %.2f' % (testScore))"
   ]
  },
  {
   "cell_type": "markdown",
   "metadata": {},
   "source": [
    "最後に、予測データのプロットを行って視覚的に評価を行いましょう。"
   ]
  },
  {
   "cell_type": "code",
   "execution_count": 9,
   "metadata": {},
   "outputs": [
    {
     "data": {
      "image/png": "[encoded data removed]",
      "text/plain": [
       "<matplotlib.figure.Figure at 0x7f2b44197e80>"
      ]
     },
     "metadata": {},
     "output_type": "display_data"
    }
   ],
   "source": [
    "import matplotlib.pyplot as plt\n",
    "\n",
    "# 訓練データ部分の予測データ\n",
    "trainPredictPlot = np.empty_like(dataset)\n",
    "trainPredictPlot[:, :] = np.nan\n",
    "trainPredictPlot[look_back:len(trainPredict)+look_back, :] = trainPredict\n",
    "\n",
    "# テストデータ部分の予測データ\n",
    "testPredictPlot = np.empty_like(dataset)\n",
    "testPredictPlot[:, :] = np.nan\n",
    "testPredictPlot[len(trainPredict)+(look_back*2)+1:len(dataset)-1, :] = testPredict\n",
    "\n",
    "plt.plot(scaler.inverse_transform(dataset), label='Dataset')\n",
    "plt.plot(trainPredictPlot, label='Prediction under train data')\n",
    "plt.plot(testPredictPlot, label='Prediction under test data')\n",
    "plt.legend()\n",
    "plt.show()"
   ]
  },
  {
   "cell_type": "markdown",
   "metadata": {},
   "source": [
    "### 4.4 モデルの可視化"
   ]
  },
  {
   "cell_type": "code",
   "execution_count": 10,
   "metadata": {},
   "outputs": [
    {
     "data": {
      "image/svg+xml": [
       "<svg height=\"191pt\" viewBox=\"0.00 0.00 207.00 191.00\" width=\"207pt\" xmlns=\"http://www.w3.org/2000/svg\" xmlns:xlink=\"http://www.w3.org/1999/xlink\">\n",
       "<g class=\"graph\" id=\"graph0\" transform=\"scale(1 1) rotate(0) translate(4 187)\">\n",
       "<title>G</title>\n",
       "<polygon fill=\"white\" points=\"-4,4 -4,-187 203,-187 203,4 -4,4\" stroke=\"none\"/>\n",
       "<!-- 139823839857352 -->\n",
       "<g class=\"node\" id=\"node1\"><title>139823839857352</title>\n",
       "<polygon fill=\"none\" points=\"0,-146.5 0,-182.5 199,-182.5 199,-146.5 0,-146.5\" stroke=\"black\"/>\n",
       "<text font-family=\"Times,serif\" font-size=\"14.00\" text-anchor=\"middle\" x=\"99.5\" y=\"-160.8\">lstm_1_input: InputLayer</text>\n",
       "</g>\n",
       "<!-- 139824896323424 -->\n",
       "<g class=\"node\" id=\"node2\"><title>139824896323424</title>\n",
       "<polygon fill=\"none\" points=\"41.5,-73.5 41.5,-109.5 157.5,-109.5 157.5,-73.5 41.5,-73.5\" stroke=\"black\"/>\n",
       "<text font-family=\"Times,serif\" font-size=\"14.00\" text-anchor=\"middle\" x=\"99.5\" y=\"-87.8\">lstm_1: LSTM</text>\n",
       "</g>\n",
       "<!-- 139823839857352&#45;&gt;139824896323424 -->\n",
       "<g class=\"edge\" id=\"edge1\"><title>139823839857352-&gt;139824896323424</title>\n",
       "<path d=\"M99.5,-146.313C99.5,-138.289 99.5,-128.547 99.5,-119.569\" fill=\"none\" stroke=\"black\"/>\n",
       "<polygon fill=\"black\" points=\"103,-119.529 99.5,-109.529 96.0001,-119.529 103,-119.529\" stroke=\"black\"/>\n",
       "</g>\n",
       "<!-- 139825904280464 -->\n",
       "<g class=\"node\" id=\"node3\"><title>139825904280464</title>\n",
       "<polygon fill=\"none\" points=\"35.5,-0.5 35.5,-36.5 163.5,-36.5 163.5,-0.5 35.5,-0.5\" stroke=\"black\"/>\n",
       "<text font-family=\"Times,serif\" font-size=\"14.00\" text-anchor=\"middle\" x=\"99.5\" y=\"-14.8\">dense_1: Dense</text>\n",
       "</g>\n",
       "<!-- 139824896323424&#45;&gt;139825904280464 -->\n",
       "<g class=\"edge\" id=\"edge2\"><title>139824896323424-&gt;139825904280464</title>\n",
       "<path d=\"M99.5,-73.3129C99.5,-65.2895 99.5,-55.5475 99.5,-46.5691\" fill=\"none\" stroke=\"black\"/>\n",
       "<polygon fill=\"black\" points=\"103,-46.5288 99.5,-36.5288 96.0001,-46.5289 103,-46.5288\" stroke=\"black\"/>\n",
       "</g>\n",
       "</g>\n",
       "</svg>"
      ],
      "text/plain": [
       "<IPython.core.display.SVG object>"
      ]
     },
     "execution_count": 10,
     "metadata": {},
     "output_type": "execute_result"
    }
   ],
   "source": [
    "from IPython.display import SVG\n",
    "from keras.utils.vis_utils import model_to_dot\n",
    "\n",
    "SVG(model_to_dot(model).create(prog='dot', format='svg'))"
   ]
  },
  {
   "cell_type": "code",
   "execution_count": null,
   "metadata": {},
   "outputs": [],
   "source": []
  }
 ],
 "metadata": {
  "kernelspec": {
   "display_name": "Python 3",
   "language": "python",
   "name": "python3"
  },
  "language_info": {
   "codemirror_mode": {
    "name": "ipython",
    "version": 3
   },
   "file_extension": ".py",
   "mimetype": "text/x-python",
   "name": "python",
   "nbconvert_exporter": "python",
   "pygments_lexer": "ipython3",
   "version": "3.5.2"
  }
 },
 "nbformat": 4,
 "nbformat_minor": 2
}
