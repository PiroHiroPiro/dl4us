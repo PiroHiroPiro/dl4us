{
 "cells": [
  {
   "cell_type": "markdown",
   "metadata": {},
   "source": [
    "# Lesson6 ニューラルネットに画像を生成させよう\n",
    "\n",
    "## 目次\n",
    "\n",
    "- Section3 テクニック・発展的内容\n",
    "  - 3.1 Conditional GAN"
   ]
  },
  {
   "cell_type": "code",
   "execution_count": null,
   "metadata": {
    "collapsed": false
   },
   "outputs": [],
   "source": []
  },
  {
   "cell_type": "markdown",
   "metadata": {},
   "source": [
    "### 3.1 Conditional GAN"
   ]
  },
  {
   "cell_type": "markdown",
   "metadata": {},
   "source": [
    "Section1では生成する画像のコントロールが出来ませんでした。つまり、数字の1が生成したくてもGeneratorにそうするように制御することが出来ませんでした。\n",
    "\n",
    "Section3ではラベルを指定することで任意の数字を生成出来るように制御出来るConditional GANを実装して、ニューラルネットに好きな数字を生成させてみましょう。"
   ]
  },
  {
   "cell_type": "markdown",
   "metadata": {},
   "source": [
    "### 3.1.1 Conditional GANとは？"
   ]
  },
  {
   "cell_type": "markdown",
   "metadata": {},
   "source": [
    "基本的にはSection1で作成したネットワークと同じです。違いはGeneratorとDiscriminatorのそれぞれにラベルに対応した数字のラベルも入力するところです。"
   ]
  },
  {
   "cell_type": "markdown",
   "metadata": {},
   "source": [
    "<img src='../figures/gan2.png' alt='gan_2'>"
   ]
  },
  {
   "cell_type": "markdown",
   "metadata": {},
   "source": [
    "### 3.1.2 Generator"
   ]
  },
  {
   "cell_type": "markdown",
   "metadata": {},
   "source": [
    "Section1のGANとの違いはランダムノイズに数字のラベル情報を結合しているところです。\n",
    "\n",
    "以下の実装のようにラベル情報もGeneratorのinputに追加されています。\n",
    "\n",
    "つまり、要素の100のノイズと要素10のone-hotベクトルのラベル情報を入力として、サイズ28x28でチャンネル1の画像を出力にしています。"
   ]
  },
  {
   "cell_type": "code",
   "execution_count": null,
   "metadata": {
    "collapsed": true
   },
   "outputs": [],
   "source": []
  },
  {
   "cell_type": "markdown",
   "metadata": {},
   "source": [
    "### 3.1.3 Discriminator"
   ]
  },
  {
   "cell_type": "markdown",
   "metadata": {},
   "source": [
    "Section1のGANとの違いは画像に加えて、数字のラベル情報を結合しているところです。\n",
    "\n",
    "以下の実装のようにラベル情報もDiscriminatorのinputに追加されています。\n",
    "\n",
    "入力としてはサイズ28x28でチャンネル1の画像と要素10のone-hotベクトルのラベル情報を入力にして、その画像がデータセットにある本物データかどうかを2値で出力します。\n",
    "\n",
    "注意するのは画像とラベル情報を結合するところです。ラベル情報を28x28x10にreshapeしているところがポイントです。"
   ]
  },
  {
   "cell_type": "markdown",
   "metadata": {},
   "source": [
    "また、実装に関して今回LambdaというLayerを利用するので説明をします。\n",
    "\n",
    "Kerasでネットワークを構築するときにLayerに定義された層以外を使いたいときは、Lambdaというlayerを用いてラップする必要があります。\n",
    "例えば、値を2乗するLayerを追加するときは以下のようにしてLambdaでラップします。\n",
    "\n",
    "```\n",
    "Lambda(lambda x: x ** 2)\n",
    "```"
   ]
  },
  {
   "cell_type": "code",
   "execution_count": null,
   "metadata": {
    "collapsed": true
   },
   "outputs": [],
   "source": []
  },
  {
   "cell_type": "markdown",
   "metadata": {},
   "source": [
    "### 3.1.4 GANの学習"
   ]
  },
  {
   "cell_type": "markdown",
   "metadata": {},
   "source": [
    "学習自体はSection1のGANとほとんど同じです。"
   ]
  },
  {
   "cell_type": "code",
   "execution_count": null,
   "metadata": {
    "collapsed": true
   },
   "outputs": [],
   "source": []
  },
  {
   "cell_type": "code",
   "execution_count": null,
   "metadata": {
    "collapsed": true
   },
   "outputs": [],
   "source": []
  },
  {
   "cell_type": "code",
   "execution_count": null,
   "metadata": {
    "collapsed": true
   },
   "outputs": [],
   "source": []
  },
  {
   "cell_type": "markdown",
   "metadata": {},
   "source": [
    "### 3.1.5 MNISTによる学習"
   ]
  },
  {
   "cell_type": "code",
   "execution_count": null,
   "metadata": {
    "collapsed": false
   },
   "outputs": [],
   "source": []
  },
  {
   "cell_type": "code",
   "execution_count": null,
   "metadata": {
    "collapsed": true
   },
   "outputs": [],
   "source": []
  },
  {
   "cell_type": "markdown",
   "metadata": {},
   "source": [
    "### 3.1.6 手書き文字の生成"
   ]
  },
  {
   "cell_type": "markdown",
   "metadata": {},
   "source": [
    "それではニューラルネットに画像を生成させてみましょう。順に0~9が並ぶことが確認出来ると思います。"
   ]
  },
  {
   "cell_type": "code",
   "execution_count": null,
   "metadata": {
    "collapsed": true
   },
   "outputs": [],
   "source": []
  },
  {
   "cell_type": "markdown",
   "metadata": {},
   "source": [
    "## Checkクイズ"
   ]
  },
  {
   "cell_type": "markdown",
   "metadata": {
    "collapsed": true
   },
   "source": [
    "- 問題1\n",
    "    - 今回実装したConditional GANに関して、次の選択肢から不適切なものを一つ選びなさい\n",
    "- 選択肢\n",
    "    1. Conditional GANは生成する画像の数字を制御出来る。\n",
    "    2. Generatorにラベルyを付与する。\n",
    "    3. Discriminatorにラベルyを付与する。\n",
    "    4. 潜在変数zを変えると生成する画像の数字も変わる。"
   ]
  },
  {
   "cell_type": "markdown",
   "metadata": {},
   "source": [
    "- 問題2\n",
    "    - Conditional GANとして最も適切なものを一つ選びなさい\n",
    "-  選択肢\n",
    "    1. $\\underset{G}{\\min}\\underset{D}{\\max}V(D, G) = E_{x{\\sim}p_{data}(x)}[\\log D(x|y)] +E_{z{\\sim}p_{data}(z)}[\\log(1-D(G(z|y)))]$\n",
    "    2. $\\underset{G}{\\min}\\underset{D}{\\max}V(D, G) = E_{x{\\sim}p_{data}(x)}[\\log D(x)] +E_{z{\\sim}p_{data}(z)}[\\log(1-D(G(z)))]$\n",
    "    3. $\\underset{G}{\\min}\\underset{D}{\\max}V(D, G) = E_{x{\\sim}p_{data}(x)}[\\log D(x|y)] +E_{z{\\sim}p_{data}(z)}[\\log(1-D(G(z)))]$\n",
    "    4. $\\underset{G}{\\min}\\underset{D}{\\max}V(D, G) = E_{x{\\sim}p_{data}(x)}[\\log D(y)] +E_{z{\\sim}p_{data}(z)}[\\log(1-D(G(z|y)))]$"
   ]
  },
  {
   "cell_type": "code",
   "execution_count": null,
   "metadata": {
    "collapsed": true
   },
   "outputs": [],
   "source": []
  }
 ],
 "metadata": {
  "kernelspec": {
   "display_name": "Python 3",
   "language": "python",
   "name": "python3"
  },
  "language_info": {
   "codemirror_mode": {
    "name": "ipython",
    "version": 3
   },
   "file_extension": ".py",
   "mimetype": "text/x-python",
   "name": "python",
   "nbconvert_exporter": "python",
   "pygments_lexer": "ipython3",
   "version": "3.5.4"
  }
 },
 "nbformat": 4,
 "nbformat_minor": 0
}
