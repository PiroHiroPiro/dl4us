{
 "cells": [
  {
   "cell_type": "markdown",
   "metadata": {},
   "source": [
    "# Lesson6 ニューラルネットに画像を生成させよう\n",
    "\n",
    "## 目次\n",
    "\n",
    "- Section5 参考\n",
    "  - 5.1 VAE"
   ]
  },
  {
   "cell_type": "code",
   "execution_count": null,
   "metadata": {
    "collapsed": true
   },
   "outputs": [],
   "source": []
  },
  {
   "cell_type": "markdown",
   "metadata": {},
   "source": [
    "### 5.1 VAE"
   ]
  },
  {
   "cell_type": "markdown",
   "metadata": {},
   "source": [
    "今回は深層生成モデルのGANの実装をメインに扱いましたが、深層生成モデルはGANだけではありません。\n",
    "\n",
    "興味のある方は、その例として Variational Auto Encoder (VAE)というモデルを使ってニューラルネットに画像生成に取り組んでみましょう。"
   ]
  },
  {
   "cell_type": "markdown",
   "metadata": {},
   "source": [
    "### 5.1.1 VAEの概要"
   ]
  },
  {
   "cell_type": "markdown",
   "metadata": {},
   "source": [
    "VAEではデータの潜在的な意味を表す潜在変数(z)からデータを生成する確率分布( $p_θ(x|z)$ ) を求めます。\n",
    "\n",
    "潜在的な意味とは、例えばMNISTの手書き文字であれば、文字であることや筆跡などがあたります。\n",
    "以下ではMNISTを例に話を進めていきます。\n",
    "\n",
    "\n",
    "下の図のようにMNISTのデータセットの入力の「1」という手書き文字の画像を潜在変数 **z**に変換し、確率分布　$p_θ(x|z)$　によって入力画像を再現するネットワークを考えます。\n",
    "\n",
    "このとき、入力を潜在変数に変換するネットワークのことを **Encoder**、潜在変数から出力として入力画像を再現するネットワークのことを **Decoder**　といいます。\n",
    "\n",
    "確率分布　$p_θ(x|z)$　を求めることによって任意の潜在変数から手書き文字画像と似た画像を出力出来るようになります。"
   ]
  },
  {
   "cell_type": "markdown",
   "metadata": {},
   "source": [
    "<img src='../figures/vae1_var2.png' alt='vae_1'>"
   ]
  },
  {
   "cell_type": "markdown",
   "metadata": {},
   "source": [
    "Encoderでは入力の画像から潜在変数zをサンプルする必要があり、VAEでは潜在変数のガウス分布性を仮定します。\n",
    "\n",
    "そのため、以下のように入力からサンプルするためのパラメータとしてガウス分布の平均と分散を出力することを行います。"
   ]
  },
  {
   "cell_type": "markdown",
   "metadata": {},
   "source": [
    "<img src='../figures/vae2_var2.png' alt='vae_2'>"
   ]
  },
  {
   "cell_type": "markdown",
   "metadata": {},
   "source": [
    "以上をふまえて、作成するモデルは以下のようなモデルを構築することになります。"
   ]
  },
  {
   "cell_type": "markdown",
   "metadata": {},
   "source": [
    "<img src='../figures/vae_3.png' alt='vae_3'>"
   ]
  },
  {
   "cell_type": "markdown",
   "metadata": {},
   "source": [
    "### 5.1.2 Encoder"
   ]
  },
  {
   "cell_type": "markdown",
   "metadata": {},
   "source": [
    "今回の実装ではEncoderにあたる層は1層のみです。"
   ]
  },
  {
   "cell_type": "code",
   "execution_count": null,
   "metadata": {
    "collapsed": true
   },
   "outputs": [],
   "source": []
  },
  {
   "cell_type": "code",
   "execution_count": null,
   "metadata": {
    "collapsed": true
   },
   "outputs": [],
   "source": []
  },
  {
   "cell_type": "markdown",
   "metadata": {},
   "source": [
    "### 補足\n",
    "\n",
    "今回はEncoderの出力として分散のlogとして出力を行っていますが、これは分散の値域を正にするためです。分散は $\\log(z\\_log\\_var)$とすることで得られます。\n",
    "また、関数の出力が正となるsoftplus関数を使用して分散も表現することも可能です。\n",
    "softplus関数については[こちら](http://tecmemo.wpblog.jp/2017/01/08/dl_activation-function/)をご参照下さい。"
   ]
  },
  {
   "cell_type": "markdown",
   "metadata": {},
   "source": [
    "### 5.1.3 潜在変数"
   ]
  },
  {
   "cell_type": "markdown",
   "metadata": {},
   "source": [
    "Encoderで出力した平均μと分散σから潜在変数zをサンプリングします。"
   ]
  },
  {
   "cell_type": "code",
   "execution_count": null,
   "metadata": {
    "collapsed": true
   },
   "outputs": [],
   "source": []
  },
  {
   "cell_type": "code",
   "execution_count": null,
   "metadata": {
    "collapsed": true
   },
   "outputs": [],
   "source": []
  },
  {
   "cell_type": "markdown",
   "metadata": {},
   "source": [
    "### 5.1.4 Decoder"
   ]
  },
  {
   "cell_type": "markdown",
   "metadata": {},
   "source": [
    "潜在変数zから画像を生成するDecoderを定義します。"
   ]
  },
  {
   "cell_type": "code",
   "execution_count": null,
   "metadata": {
    "collapsed": true
   },
   "outputs": [],
   "source": []
  },
  {
   "cell_type": "markdown",
   "metadata": {},
   "source": [
    "### 5.1.5 Loss"
   ]
  },
  {
   "cell_type": "markdown",
   "metadata": {},
   "source": [
    "周辺尤度の変分下界の最大化によって最適化を行います。\n",
    "\n",
    "Lossとしては以下に示す復元誤差と正則化項の和になります。\n",
    "(なお、デコーダにベルヌーイ分布を仮定するため復元誤差は負の交差エントロピー誤差となります。）\n",
    "\n",
    "#### 復元誤差\n",
    "\n",
    "$ \\sum_{k=1}^{n} ( x_k \\log(y_k) + (1-x_k) \\log(1-y_k) ) $\n",
    "\n",
    "#### 正則化項\n",
    "\n",
    "$-\\frac{1}{2}\\sum_{k=1}^{n} ( 1 + \\log(\\sigma_i^2) - \\mu_i^2 - \\sigma_i^2 )$"
   ]
  },
  {
   "cell_type": "markdown",
   "metadata": {},
   "source": [
    "ここでLossを定義するために自作のLayerを用意します。\n",
    "\n",
    "KerasのLayer classを継承したクラスでcallメソッドの中で `add_loss`というメソッドを用いてlossを定義することが出来ます。"
   ]
  },
  {
   "cell_type": "markdown",
   "metadata": {},
   "source": [
    "### 補足: 正則化項の意味\n",
    "\n",
    "#### 1. VAEと多様体学習\n",
    "\n",
    "VAEは多様体学習を行うことを目的としています。例えば、以下のように2次元の空間上にデータを表現出来るようにすることが目的となります。正則化項の制限によってこの多様体の学習がうまく出来るようになります。\n",
    "\n",
    "<img src='../figures/vae_suppliment.png' alt='vae_suppliment'>\n",
    "\n",
    "( 引用: [Auto-Encoding Variational Bayes](https://arxiv.org/abs/1312.6114) )\n",
    "\n",
    "\n",
    "#### 2. 正則化項の役割\n",
    "\n",
    "ただし、正則化項が強く作用すると画像の特徴の情報が小さくなるのも確かで、正則化項を段々と強くかける（正則化項に係数をかけて、その係数を学習が進むにつれて0から増やしていく）といった学習方法もあります。\n",
    "また、その係数を1よりもあえて大きく取ることで、disentangleな情報を表現出来ることも知られています(β-VAE)。disentangleな情報が出来るとは例えば以下のように「方向」、「幅」、「脚のスタイル」を多様体学習した潜在変数の軸ごとに獲得出来るということです。\n",
    "\n",
    "<img src='../figures/vae_suppliment2.png' alt='vae_suppliment2'>\n",
    "\n",
    "( 引用: [β-VAE: LEARNING BASIC VISUAL CONCEPTS WITH A CONSTRAINED VARIATIONAL FRAMEWORK](https://openreview.net/pdf?id=Sy2fzU9gl))"
   ]
  },
  {
   "cell_type": "code",
   "execution_count": null,
   "metadata": {
    "collapsed": true
   },
   "outputs": [],
   "source": []
  },
  {
   "cell_type": "code",
   "execution_count": null,
   "metadata": {
    "collapsed": true
   },
   "outputs": [],
   "source": []
  },
  {
   "cell_type": "markdown",
   "metadata": {},
   "source": [
    "### 5.1.6 MNISTによる学習"
   ]
  },
  {
   "cell_type": "markdown",
   "metadata": {},
   "source": [
    "MNISTのデータセットによって学習を行います。"
   ]
  },
  {
   "cell_type": "code",
   "execution_count": null,
   "metadata": {
    "collapsed": true
   },
   "outputs": [],
   "source": []
  },
  {
   "cell_type": "code",
   "execution_count": null,
   "metadata": {
    "collapsed": true
   },
   "outputs": [],
   "source": []
  },
  {
   "cell_type": "markdown",
   "metadata": {},
   "source": [
    "### 5.1.7 手書き文字の生成"
   ]
  },
  {
   "cell_type": "markdown",
   "metadata": {},
   "source": [
    "任意の潜在変数によって手書き文字が出力出来ることを実際に画像を生成して確認してみましょう。"
   ]
  },
  {
   "cell_type": "code",
   "execution_count": null,
   "metadata": {
    "collapsed": true
   },
   "outputs": [],
   "source": []
  },
  {
   "cell_type": "code",
   "execution_count": null,
   "metadata": {
    "collapsed": true
   },
   "outputs": [],
   "source": []
  }
 ],
 "metadata": {
  "kernelspec": {
   "display_name": "Python 3",
   "language": "python",
   "name": "python3"
  },
  "language_info": {
   "codemirror_mode": {
    "name": "ipython",
    "version": 3
   },
   "file_extension": ".py",
   "mimetype": "text/x-python",
   "name": "python",
   "nbconvert_exporter": "python",
   "pygments_lexer": "ipython3",
   "version": "3.5.2"
  }
 },
 "nbformat": 4,
 "nbformat_minor": 0
}
