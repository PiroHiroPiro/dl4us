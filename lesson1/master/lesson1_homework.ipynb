{
 "cells": [
  {
   "cell_type": "markdown",
   "metadata": {},
   "source": [
    "# Lesson1 手書き文字認識をしよう（ニューラルネットワーク入門）"
   ]
  },
  {
   "cell_type": "markdown",
   "metadata": {},
   "source": [
    "## Homework\n",
    "今Lessonで学んだMLPを用いて、FashionMNISTの高精度な分類器を実装してみましょう。 \n",
    "\n",
    "モデルのレイヤーを変更してみるなどして精度の向上にチャンレンジして下さい。\n",
    "精度上位者はリーダーボードに載ります。"
   ]
  },
  {
   "cell_type": "markdown",
   "metadata": {},
   "source": [
    "## 目標値\n",
    "\n",
    "Accuracy 90%"
   ]
  },
  {
   "cell_type": "markdown",
   "metadata": {},
   "source": [
    "### ルール\n",
    "- 訓練データは`x_train`、 `y_train`、テストデータは`x_test`で与えられます。\n",
    "- 予測ラベルは **one_hot表現ではなく0~9のクラスラベル** で表してください。\n",
    "- 下のセルで指定されているx_train、y_train以外の学習データは使わないでください。\n",
    "- 次のレッスンでCNNを学習するので今回の宿題での利用は控えて下さい。\n",
    "\n",
    "### 評価について\n",
    "\n",
    "- テストデータ(x_test)に対する予測ラベルをcsvファイルで提出してください。\n",
    "- ファイル名はsubmission.csvとしてください。\n",
    "- 予測ラベルのy_testに対する精度 (F値)で評価します。\n",
    "- 評価はテストデータに対する精度でおこないます。"
   ]
  },
  {
   "cell_type": "markdown",
   "metadata": {},
   "source": [
    "### サンプルコード\n",
    "\n",
    "**次のセルで指定されているx_train, y_trainのみを使って学習させてください。**"
   ]
  },
  {
   "cell_type": "code",
   "execution_count": null,
   "metadata": {
    "collapsed": false
   },
   "outputs": [],
   "source": [
    "import numpy as np\n",
    "import pandas as pd\n",
    "import os\n",
    "\n",
    "def load_mnist():\n",
    "\n",
    "    # 学習データ\n",
    "    x_train = np.load('/root/userspace/public/lesson1/data/x_train.npy')\n",
    "    y_train = np.load('/root/userspace/public/lesson1/data/y_train.npy')\n",
    "    \n",
    "    # テストデータ\n",
    "    x_test = np.load('/root/userspace/public/lesson1/data/x_test.npy')\n",
    "\n",
    "    x_train = x_train.reshape(-1, 784).astype('float32') / 255\n",
    "    x_test = x_test.reshape(-1, 784).astype('float32') / 255\n",
    "    y_train = np.eye(10)[y_train.astype('int32').flatten()]\n",
    "\n",
    "    return (x_train, x_test, y_train)\n",
    "\n",
    "x_train, x_test, y_train = load_mnist()"
   ]
  },
  {
   "cell_type": "code",
   "execution_count": null,
   "metadata": {
    "collapsed": false
   },
   "outputs": [],
   "source": [
    "from keras.models import Sequential\n",
    "from keras.layers import Dense, Dropout\n",
    "\n",
    "model = Sequential()\n",
    "\n",
    "model.add(Dense(512, input_shape=(784,), activation='relu', kernel_initializer='he_normal'))\n",
    "model.add(Dense(256, activation='relu', kernel_initializer='he_normal'))\n",
    "model.add(Dense(128, activation='relu', kernel_initializer='he_normal'))\n",
    "model.add(Dropout(0.3))\n",
    "model.add(Dense(64, activation='relu', kernel_initializer='he_normal'))\n",
    "model.add(Dense(32, activation='relu', kernel_initializer='he_normal'))\n",
    "model.add(Dense(10, activation='softmax'))\n",
    "\n",
    "model.compile(loss='categorical_crossentropy', optimizer='adam', metrics=['accuracy'])\n",
    "model.fit(x_train, y_train, batch_size=32, epochs=5, validation_split=0.1)\n",
    "\n",
    "pred_y = model.predict(x_test)\n",
    "pred_y = np.argmax(pred_y, 1)\n",
    "    \n",
    "submission = pd.Series(pred_y, name='label')\n",
    "submission.to_csv('/root/userspace/public/lesson1/master/submission.csv', header=True, index_label='id')"
   ]
  },
  {
   "cell_type": "code",
   "execution_count": null,
   "metadata": {
    "collapsed": true
   },
   "outputs": [],
   "source": []
  }
 ],
 "metadata": {
  "kernelspec": {
   "display_name": "Python 3",
   "language": "python",
   "name": "python3"
  },
  "language_info": {
   "codemirror_mode": {
    "name": "ipython",
    "version": 3
   },
   "file_extension": ".py",
   "mimetype": "text/x-python",
   "name": "python",
   "nbconvert_exporter": "python",
   "pygments_lexer": "ipython3",
   "version": "3.5.2"
  }
 },
 "nbformat": 4,
 "nbformat_minor": 2
}
